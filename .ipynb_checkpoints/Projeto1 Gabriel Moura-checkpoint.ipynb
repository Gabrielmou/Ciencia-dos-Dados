{
 "cells": [
  {
   "cell_type": "markdown",
   "metadata": {},
   "source": [
    "___\n",
    "# Ciência dos Dados - PROJETO 1"
   ]
  },
  {
   "cell_type": "markdown",
   "metadata": {},
   "source": [
    "GABRIEL MOURA ALMEIDA"
   ]
  },
  {
   "cell_type": "markdown",
   "metadata": {},
   "source": [
    "Análise do uso de aparelhos eletrônicos em domicílios de acordo com as faixas de renda mensais, no estado de São Paulo."
   ]
  },
  {
   "cell_type": "markdown",
   "metadata": {},
   "source": [
    "___\n",
    "## Introdução\n",
    "\n",
    "Acesso à internet e TV\n",
    "\n",
    "Pretendo analisar e comparar o uso de aparelhos eletrônicos como: computadores, celulares e televisão em diferentes faixas de renda mensal no estado de São Paulo.\n",
    "\n",
    "Variáveis de Interesse:\n",
    "- Rendimento mensal domiciliar per capita\n",
    "- Tem telefone móvel celular\n",
    "- Tem televisão em cores\n",
    "- Microcomputador é utilizado para acessar a Internet\n",
    "- Existência de morador de 0 a 17 anos de idade\n",
    "\n",
    "\n",
    "Filtro de Tipos de Domicílios\n",
    "- Unidade da Federação\n",
    "- Total de moradores\n",
    "- Condição de ocupação do domicílio\n",
    "- Código de situação censitária\n"
   ]
  },
  {
   "cell_type": "markdown",
   "metadata": {},
   "source": [
    "___\n",
    "## Análise e Resultados"
   ]
  },
  {
   "cell_type": "code",
   "execution_count": null,
   "metadata": {
    "collapsed": true
   },
   "outputs": [],
   "source": [
    "%matplotlib inline\n",
    "import pandas as pd\n",
    "import matplotlib.pyplot as plt\n",
    "import numpy as np\n",
    "import os\n",
    "import matplotlib\n",
    "matplotlib.style.use('ggplot')"
   ]
  },
  {
   "cell_type": "code",
   "execution_count": null,
   "metadata": {
    "collapsed": false
   },
   "outputs": [],
   "source": [
    "print('Esperamos trabalhar no diretório')\n",
    "print(os.getcwd())\n"
   ]
  },
  {
   "cell_type": "code",
   "execution_count": 5,
   "metadata": {
    "collapsed": false,
    "scrolled": false
   },
   "outputs": [
    {
     "name": "stdout",
     "output_type": "stream",
     "text": [
      "Axes(0.125,0.125;0.775x0.755)\n",
      "        Estados               Condição Celular Televisão Microcomputador  \\\n",
      "94204        35           Proprio Pago     Sim       Sim             Sim   \n",
      "94207        35                Alugado     Sim       Sim             Não   \n",
      "94215        35                Alugado     Sim       Sim             Sim   \n",
      "94217        35           Proprio Pago     Não       Sim             Sim   \n",
      "94228        35           Proprio Pago     Sim       Sim             Sim   \n",
      "94230        35                Alugado     Sim       Sim             Sim   \n",
      "94234        35  Cedido de outra forma     Sim       Sim             Sim   \n",
      "94239        35                Alugado     Sim       Sim             Sim   \n",
      "94241        35        Proprio Pagando     Sim       Sim             Sim   \n",
      "94256        35           Proprio Pago     Sim       Sim             Sim   \n",
      "94257        35           Proprio Pago     Sim       Sim             Sim   \n",
      "94258        35           Proprio Pago     Sim       Sim             Sim   \n",
      "94268        35           Proprio Pago     Não       Sim             Não   \n",
      "94269        35                Alugado     Não       Sim             Sim   \n",
      "94277        35                Alugado     Sim       Não             Sim   \n",
      "94414        35  Cedido de outra forma     Sim       Sim             Não   \n",
      "94434        35           Proprio Pago     Sim       Sim             Sim   \n",
      "94516        35                Alugado     Não       Sim             Não   \n",
      "94526        35        Proprio Pagando     Sim       Sim             Sim   \n",
      "94527        35           Proprio Pago     Sim       Sim             Sim   \n",
      "94536        35           Proprio Pago     Sim       Sim             Sim   \n",
      "94544        35           Proprio Pago     Sim       Sim             Sim   \n",
      "94576        35           Proprio Pago     Sim       Sim             Sim   \n",
      "94614        35           Proprio Pago     Sim       Sim             Sim   \n",
      "94622        35           Proprio Pago     Não       Sim             Não   \n",
      "94627        35           Proprio Pago     Não       Sim             Não   \n",
      "94682        35           Proprio Pago     Não       Sim             Não   \n",
      "94694        35           Proprio Pago     Não       Sim             Sim   \n",
      "94711        35           Proprio Pago     Não       Sim             Sim   \n",
      "94718        35                Alugado     Sim       Sim             Sim   \n",
      "...         ...                    ...     ...       ...             ...   \n",
      "111482       35           Proprio Pago     Sim       Sim             Sim   \n",
      "111520       35           Proprio Pago     Sim       Sim             Não   \n",
      "111524       35           Proprio Pago     Não       Sim             Sim   \n",
      "111528       35        Proprio Pagando     Sim       Sim             Sim   \n",
      "111531       35           Proprio Pago     Não       Sim             Não   \n",
      "111591       35           Proprio Pago     Não       Não             Não   \n",
      "111611       35                Alugado     Sim       Sim             Não   \n",
      "111681       35           Proprio Pago     Sim       Sim             Sim   \n",
      "111691       35           Proprio Pago     Sim       Sim             Sim   \n",
      "111701       35           Proprio Pago     Sim       Sim             Sim   \n",
      "111766       35           Proprio Pago     Sim       Sim             Sim   \n",
      "111783       35                Alugado     Sim       Sim             Sim   \n",
      "111785       35           Proprio Pago     Sim       Sim             Sim   \n",
      "111787       35           Proprio Pago     Não       Sim             Não   \n",
      "111821       35                Alugado     Não       Sim             Sim   \n",
      "111837       35           Proprio Pago     Sim       Sim             Sim   \n",
      "111861       35           Proprio Pago     Sim       Sim             Sim   \n",
      "111873       35        Proprio Pagando     Sim       Sim             Sim   \n",
      "111901       35        Proprio Pagando     Sim       Sim             Não   \n",
      "111943       35        Proprio Pagando     Sim       Sim             Não   \n",
      "111944       35        Proprio Pagando     Sim       Sim             Sim   \n",
      "111992       35        Proprio Pagando     Não       Sim             Sim   \n",
      "112042       35        Proprio Pagando     Sim       Sim             Não   \n",
      "112049       35        Proprio Pagando     Sim       Sim             Sim   \n",
      "112084       35        Proprio Pagando     Sim       Sim             Sim   \n",
      "112087       35                Alugado     Sim       Sim             Sim   \n",
      "112177       35        Proprio Pagando     Sim       Sim             Sim   \n",
      "112179       35        Proprio Pagando     Sim       Sim             Sim   \n",
      "112186       35        Proprio Pagando     Sim       Sim             Sim   \n",
      "112210       35        Proprio Pagando     Sim       Sim             Sim   \n",
      "\n",
      "        Renda Mensal Domiciliar  Total de moradores CódigoCensitário Menor  \n",
      "94204                       NaN                 4.0          Urbana1   Não  \n",
      "94207                       NaN                 2.0          Urbana1   Não  \n",
      "94215                       NaN                 4.0          Urbana1   Não  \n",
      "94217                       NaN                 4.0          Urbana1   Sim  \n",
      "94228                       NaN                 3.0          Urbana1   Sim  \n",
      "94230                       NaN                 4.0          Urbana1   Sim  \n",
      "94234                       NaN                 3.0          Urbana1   Sim  \n",
      "94239                       NaN                 4.0          Urbana1   Sim  \n",
      "94241                       NaN                 2.0          Urbana1   Não  \n",
      "94256                       NaN                 3.0          Urbana1   Sim  \n",
      "94257                       NaN                 4.0          Urbana1   Não  \n",
      "94258                       NaN                 2.0          Urbana1   Não  \n",
      "94268                       NaN                 4.0          Urbana1   Sim  \n",
      "94269                       NaN                 3.0          Urbana1   Não  \n",
      "94277                       NaN                 3.0          Urbana1   Sim  \n",
      "94414                       NaN                 2.0          Urbana1   Sim  \n",
      "94434                       NaN                 2.0          Urbana1   Sim  \n",
      "94516                       NaN                 3.0          Urbana1   Sim  \n",
      "94526                       NaN                 3.0          Urbana1   Não  \n",
      "94527                       NaN                 4.0          Urbana1   Sim  \n",
      "94536                       NaN                 4.0          Urbana1   Não  \n",
      "94544                       NaN                 5.0          Urbana1   Sim  \n",
      "94576                       NaN                 4.0          Urbana1   Sim  \n",
      "94614                       NaN                 2.0          Urbana1   Não  \n",
      "94622                       NaN                 5.0          Urbana1   Sim  \n",
      "94627                       NaN                 5.0          Urbana1   Sim  \n",
      "94682                       NaN                 4.0          Urbana1   Sim  \n",
      "94694                       NaN                 5.0          Urbana1   Sim  \n",
      "94711                       NaN                 3.0          Urbana1   Sim  \n",
      "94718                       NaN                 2.0          Urbana1   Não  \n",
      "...                         ...                 ...              ...   ...  \n",
      "111482                      NaN                 4.0           Rural4   Sim  \n",
      "111520                      NaN                 7.0          Urbana1   Sim  \n",
      "111524                      NaN                 4.0          Urbana1   Sim  \n",
      "111528                      NaN                 4.0          Urbana1   Sim  \n",
      "111531                      NaN                 4.0          Urbana1   Sim  \n",
      "111591                      NaN                 5.0          Urbana1   Sim  \n",
      "111611                      NaN                 4.0          Urbana1   Sim  \n",
      "111681                      NaN                 5.0          Urbana1   Sim  \n",
      "111691                      NaN                 4.0          Urbana1   Sim  \n",
      "111701                      NaN                 3.0          Urbana1   Sim  \n",
      "111766                      NaN                 4.0          Urbana1   Não  \n",
      "111783                      NaN                 5.0          Urbana1   Sim  \n",
      "111785                      NaN                 2.0          Urbana1   Não  \n",
      "111787                      NaN                 5.0          Urbana1   Sim  \n",
      "111821                      NaN                 5.0          Urbana1   Sim  \n",
      "111837                      NaN                 5.0          Urbana1   Sim  \n",
      "111861                      NaN                 5.0           Rural4   Não  \n",
      "111873                      NaN                 3.0          Urbana1   Não  \n",
      "111901                      NaN                 4.0          Urbana1   Sim  \n",
      "111943                      NaN                 3.0          Urbana1   Sim  \n",
      "111944                      NaN                 3.0          Urbana1   Sim  \n",
      "111992                      NaN                 4.0          Urbana1   Sim  \n",
      "112042                      NaN                 2.0          Urbana1   Não  \n",
      "112049                      NaN                 5.0          Urbana1   Sim  \n",
      "112084                      NaN                 2.0          Urbana1   Não  \n",
      "112087                      NaN                 2.0          Urbana1   Não  \n",
      "112177                      NaN                 9.0          Urbana1   Sim  \n",
      "112179                      NaN                 5.0          Urbana1   Sim  \n",
      "112186                      NaN                 4.0          Urbana1   Sim  \n",
      "112210                      NaN                 4.0           Rural4   Não  \n",
      "\n",
      "[1029 rows x 9 columns]\n",
      "Proprio Pago             625\n",
      "Alugado                  232\n",
      "Proprio Pagando           82\n",
      "Cedido de outra forma     70\n",
      "Outro                     13\n",
      "Cedido por empregador      7\n",
      "Name: Condição, dtype: int64\n",
      "Sim    775\n",
      "Não    254\n",
      "Name: Celular, dtype: int64\n",
      "Sim    1020\n",
      "Não       9\n",
      "Name: Televisão, dtype: int64\n",
      "Sim    735\n",
      "Não    294\n",
      "Name: Microcomputador, dtype: int64\n"
     ]
    }
   ],
   "source": [
    "#Se usar o arquivo descompactado\n",
    "#pd.read_csv('DOM2015.csv',sep=',')\n",
    "\n",
    "#Se usar o arquivo compactado como está no dropbox púbico\n",
    "#pd.read_csv('DOM2015csv.zip', compression='zip', header=0, sep=',', quotechar='\"')\n",
    "# Projeto1CD\n",
    "import pandas as pd\n",
    "import numpy as np\n",
    "import matplotlib.pyplot as plt\n",
    "\n",
    "dados = pd.read_csv(\"PNAD/PNAD DOM2009/DOM2009csv/DOM2009.csv\")\n",
    "dados = dados.rename(columns={\"UF\":\"Estados\",\"V0207\":\"Condição\",\"V2020\":\"Celular\",\"V4621\":\"Renda\",\"V0226\":\"Televisão\",\"V0232\":\"Microcomputador\",\"V0105\":\"Total de moradores\",\"V4105\":\"CódigoCensitário\",\"V2123\":\"Menor\"})\n",
    "dados_resumidos = dados[dados.Estados == 35] #filtragem para São Paulo \n",
    "\n",
    "dados_resumidos = dados_resumidos.ix[:, [\"Estados\",\"Condição\",\"Celular\",\"Televisão\",\"Microcomputador\",\"Renda Mensal Domiciliar\",\"Total de moradores\",\"CódigoCensitário\",\"Menor\"]]\n",
    "dados_resumidos.Condição = dados_resumidos.Condição.astype('category')\n",
    "dados_resumidos.Celular = dados_resumidos.Celular.astype('category')\n",
    "dados_resumidos.Televisão = dados_resumidos.Televisão.astype('category')\n",
    "dados_resumidos.Microcomputador = dados_resumidos.Microcomputador.astype('category')\n",
    "dados_resumidos.CódigoCensitário= dados_resumidos.CódigoCensitário.astype('category')\n",
    "dados_resumidos.Menor = dados_resumidos.Menor.astype('category')\n",
    "dados_resumidos.Condição.cat.categories = ('Proprio Pago', 'Proprio Pagando','Alugado','Cedido por empregador','Cedido de outra forma','Outro')\n",
    "dados_resumidos.Celular.cat.categories = ('Sim', 'Não')\n",
    "dados_resumidos.Televisão.cat.categories = ('Sim', 'Não')\n",
    "dados_resumidos.Microcomputador.cat.categories = ('Sim', 'Não')\n",
    "dados_resumidos.CódigoCensitário.cat.categories = ('Urbana1','Urbana2','Urbana3','Rural1','Rural2','Rural3','Rural4')\n",
    "dados_resumidos.Menor.cat.categories = ('Sim','Não')\n",
    "dados_resumidos= dados_resumidos[dados_resumidos.Condição.notnull()]\n",
    "dados_resumidos= dados_resumidos[dados_resumidos.Microcomputador.notnull()]\n",
    "dados_resumidos= dados_resumidos[dados_resumidos.Menor.notnull()]\n",
    "\n",
    "\n",
    "dfc2 = dados.Celular.value_counts().reindex([\"Sim\",  \"Não\"])\n",
    "print(dfc2.plot(kind='bar', color=('red', 'blue'), legend=False))\n",
    "print(dados_resumidos)\n",
    "print(dados_resumidos.Condição.value_counts())\n",
    "print(dados_resumidos.Celular.value_counts())\n",
    "print(dados_resumidos.Televisão.value_counts())\n",
    "print(dados_resumidos.Microcomputador.value_counts())\n",
    "\n",
    "\n"
   ]
  },
  {
   "cell_type": "code",
   "execution_count": null,
   "metadata": {
    "collapsed": true
   },
   "outputs": [],
   "source": []
  },
  {
   "cell_type": "markdown",
   "metadata": {},
   "source": [
    "___\n",
    "## Conclusão "
   ]
  },
  {
   "cell_type": "markdown",
   "metadata": {
    "collapsed": true
   },
   "source": [
    "Descreva aqui suas conclusões!"
   ]
  },
  {
   "cell_type": "code",
   "execution_count": null,
   "metadata": {
    "collapsed": true
   },
   "outputs": [],
   "source": []
  }
 ],
 "metadata": {
  "anaconda-cloud": {},
  "kernelspec": {
   "display_name": "Python 3",
   "language": "python",
   "name": "python3"
  },
  "language_info": {
   "codemirror_mode": {
    "name": "ipython",
    "version": 3
   },
   "file_extension": ".py",
   "mimetype": "text/x-python",
   "name": "python",
   "nbconvert_exporter": "python",
   "pygments_lexer": "ipython3",
   "version": "3.6.0"
  }
 },
 "nbformat": 4,
 "nbformat_minor": 1
}
