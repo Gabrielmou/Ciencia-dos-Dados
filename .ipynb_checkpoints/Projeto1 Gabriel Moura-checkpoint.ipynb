{
 "cells": [
  {
   "cell_type": "markdown",
   "metadata": {},
   "source": [
    "___\n",
    "# Ciência dos Dados - PROJETO 1"
   ]
  },
  {
   "cell_type": "markdown",
   "metadata": {},
   "source": [
    "GABRIEL MOURA ALMEIDA"
   ]
  },
  {
   "cell_type": "markdown",
   "metadata": {},
   "source": [
    "Análise do uso de aparelhos eletrônicos em domicílios de acordo com as faixas de renda mensais, no estado de São Paulo."
   ]
  },
  {
   "cell_type": "markdown",
   "metadata": {},
   "source": [
    "___\n",
    "## Introdução\n",
    "\n",
    "Acesso à internet e TV\n",
    "\n",
    "Pretendo analisar e comparar o uso de aparelhos eletrônicos como: computadores, celulares e televisão em diferentes faixas de renda mensal no estado de São Paulo.\n",
    "\n",
    "Variáveis de Interesse:\n",
    "- Rendimento mensal domiciliar per capita\n",
    "- Tem telefone móvel celular\n",
    "- Tem televisão em cores\n",
    "- Microcomputador é utilizado para acessar a Internet\n",
    "- Existência de morador de 0 a 17 anos de idade\n",
    "\n",
    "\n",
    "Filtro de Tipos de Domicílios\n",
    "- Unidade da Federação\n",
    "- Total de moradores\n",
    "- Condição de ocupação do domicílio\n",
    "- Código de situação censitária\n"
   ]
  },
  {
   "cell_type": "markdown",
   "metadata": {},
   "source": [
    "___\n",
    "## Análise e Resultados"
   ]
  },
  {
   "cell_type": "code",
   "execution_count": 1,
   "metadata": {
    "collapsed": true
   },
   "outputs": [],
   "source": [
    "%matplotlib inline\n",
    "import pandas as pd\n",
    "import matplotlib.pyplot as plt\n",
    "import numpy as np\n",
    "import os\n",
    "import matplotlib\n",
    "matplotlib.style.use('ggplot')"
   ]
  },
  {
   "cell_type": "code",
   "execution_count": 2,
   "metadata": {
    "collapsed": false
   },
   "outputs": [
    {
     "name": "stdout",
     "output_type": "stream",
     "text": [
      "Esperamos trabalhar no diretório\n",
      "C:\\Users\\Gabriel Moura\\Documents\\Insper\\2 Semestre\\Ciência dos Dados\\Projeto 1\\Ciencia-dos-Dados\n"
     ]
    }
   ],
   "source": [
    "print('Esperamos trabalhar no diretório')\n",
    "print(os.getcwd())\n"
   ]
  },
  {
   "cell_type": "code",
   "execution_count": 13,
   "metadata": {
    "collapsed": false,
    "scrolled": false
   },
   "outputs": [
    {
     "name": "stdout",
     "output_type": "stream",
     "text": [
      "Axes(0.125,0.125;0.775x0.755)\n",
      "        Estados               Condição Celular Televisão Microcomputador  \\\n",
      "94204        35           Proprio Pago     Sim       Sim             Sim   \n",
      "94207        35                Alugado     Sim       Sim             Não   \n",
      "94215        35                Alugado     Sim       Sim             Sim   \n",
      "94217        35           Proprio Pago     Não       Sim             Sim   \n",
      "94228        35           Proprio Pago     Sim       Sim             Sim   \n",
      "94230        35                Alugado     Sim       Sim             Sim   \n",
      "94234        35  Cedido de outra forma     Sim       Sim             Sim   \n",
      "94239        35                Alugado     Sim       Sim             Sim   \n",
      "94241        35        Proprio Pagando     Sim       Sim             Sim   \n",
      "94256        35           Proprio Pago     Sim       Sim             Sim   \n",
      "94257        35           Proprio Pago     Sim       Sim             Sim   \n",
      "94258        35           Proprio Pago     Sim       Sim             Sim   \n",
      "94268        35           Proprio Pago     Não       Sim             Não   \n",
      "94269        35                Alugado     Não       Sim             Sim   \n",
      "94277        35                Alugado     Sim       Não             Sim   \n",
      "94414        35  Cedido de outra forma     Sim       Sim             Não   \n",
      "94434        35           Proprio Pago     Sim       Sim             Sim   \n",
      "94516        35                Alugado     Não       Sim             Não   \n",
      "94526        35        Proprio Pagando     Sim       Sim             Sim   \n",
      "94527        35           Proprio Pago     Sim       Sim             Sim   \n",
      "94536        35           Proprio Pago     Sim       Sim             Sim   \n",
      "94544        35           Proprio Pago     Sim       Sim             Sim   \n",
      "94576        35           Proprio Pago     Sim       Sim             Sim   \n",
      "94614        35           Proprio Pago     Sim       Sim             Sim   \n",
      "94622        35           Proprio Pago     Não       Sim             Não   \n",
      "94627        35           Proprio Pago     Não       Sim             Não   \n",
      "94682        35           Proprio Pago     Não       Sim             Não   \n",
      "94694        35           Proprio Pago     Não       Sim             Sim   \n",
      "94711        35           Proprio Pago     Não       Sim             Sim   \n",
      "94718        35                Alugado     Sim       Sim             Sim   \n",
      "...         ...                    ...     ...       ...             ...   \n",
      "111482       35           Proprio Pago     Sim       Sim             Sim   \n",
      "111520       35           Proprio Pago     Sim       Sim             Não   \n",
      "111524       35           Proprio Pago     Não       Sim             Sim   \n",
      "111528       35        Proprio Pagando     Sim       Sim             Sim   \n",
      "111531       35           Proprio Pago     Não       Sim             Não   \n",
      "111591       35           Proprio Pago     Não       Não             Não   \n",
      "111611       35                Alugado     Sim       Sim             Não   \n",
      "111681       35           Proprio Pago     Sim       Sim             Sim   \n",
      "111691       35           Proprio Pago     Sim       Sim             Sim   \n",
      "111701       35           Proprio Pago     Sim       Sim             Sim   \n",
      "111766       35           Proprio Pago     Sim       Sim             Sim   \n",
      "111783       35                Alugado     Sim       Sim             Sim   \n",
      "111785       35           Proprio Pago     Sim       Sim             Sim   \n",
      "111787       35           Proprio Pago     Não       Sim             Não   \n",
      "111821       35                Alugado     Não       Sim             Sim   \n",
      "111837       35           Proprio Pago     Sim       Sim             Sim   \n",
      "111861       35           Proprio Pago     Sim       Sim             Sim   \n",
      "111873       35        Proprio Pagando     Sim       Sim             Sim   \n",
      "111901       35        Proprio Pagando     Sim       Sim             Não   \n",
      "111943       35        Proprio Pagando     Sim       Sim             Não   \n",
      "111944       35        Proprio Pagando     Sim       Sim             Sim   \n",
      "111992       35        Proprio Pagando     Não       Sim             Sim   \n",
      "112042       35        Proprio Pagando     Sim       Sim             Não   \n",
      "112049       35        Proprio Pagando     Sim       Sim             Sim   \n",
      "112084       35        Proprio Pagando     Sim       Sim             Sim   \n",
      "112087       35                Alugado     Sim       Sim             Sim   \n",
      "112177       35        Proprio Pagando     Sim       Sim             Sim   \n",
      "112179       35        Proprio Pagando     Sim       Sim             Sim   \n",
      "112186       35        Proprio Pagando     Sim       Sim             Sim   \n",
      "112210       35        Proprio Pagando     Sim       Sim             Sim   \n",
      "\n",
      "        Renda Mensal Domiciliar  Total de moradores CódigoCensitário Menor  \n",
      "94204              1.000000e+12                 4.0          Urbana1   Não  \n",
      "94207              1.350000e+03                 2.0          Urbana1   Não  \n",
      "94215              1.075000e+03                 4.0          Urbana1   Não  \n",
      "94217              1.500000e+03                 4.0          Urbana1   Sim  \n",
      "94228              1.500000e+03                 3.0          Urbana1   Sim  \n",
      "94230              5.750000e+02                 4.0          Urbana1   Sim  \n",
      "94234              1.000000e+12                 3.0          Urbana1   Sim  \n",
      "94239              6.250000e+02                 4.0          Urbana1   Sim  \n",
      "94241              6.500000e+02                 2.0          Urbana1   Não  \n",
      "94256              4.000000e+02                 3.0          Urbana1   Sim  \n",
      "94257              5.910000e+02                 4.0          Urbana1   Não  \n",
      "94258              1.000000e+03                 2.0          Urbana1   Não  \n",
      "94268              3.250000e+02                 4.0          Urbana1   Sim  \n",
      "94269              3.880000e+02                 3.0          Urbana1   Não  \n",
      "94277              7.500000e+02                 3.0          Urbana1   Sim  \n",
      "94414              3.250000e+02                 2.0          Urbana1   Sim  \n",
      "94434              1.015000e+03                 2.0          Urbana1   Sim  \n",
      "94516              2.760000e+02                 3.0          Urbana1   Sim  \n",
      "94526              7.040000e+02                 3.0          Urbana1   Não  \n",
      "94527              6.620000e+02                 4.0          Urbana1   Sim  \n",
      "94536              2.750000e+02                 4.0          Urbana1   Não  \n",
      "94544              2.400000e+02                 5.0          Urbana1   Sim  \n",
      "94576              5.780000e+02                 4.0          Urbana1   Sim  \n",
      "94614              9.500000e+02                 2.0          Urbana1   Não  \n",
      "94622              1.910000e+02                 5.0          Urbana1   Sim  \n",
      "94627              5.700000e+02                 5.0          Urbana1   Sim  \n",
      "94682              3.290000e+02                 4.0          Urbana1   Sim  \n",
      "94694              3.530000e+02                 5.0          Urbana1   Sim  \n",
      "94711              4.000000e+02                 3.0          Urbana1   Sim  \n",
      "94718              1.075000e+03                 2.0          Urbana1   Não  \n",
      "...                         ...                 ...              ...   ...  \n",
      "111482             2.000000e+02                 4.0           Rural4   Sim  \n",
      "111520             2.140000e+02                 7.0          Urbana1   Sim  \n",
      "111524             4.100000e+02                 4.0          Urbana1   Sim  \n",
      "111528             1.750000e+03                 4.0          Urbana1   Sim  \n",
      "111531             5.400000e+02                 4.0          Urbana1   Sim  \n",
      "111591             2.700000e+02                 5.0          Urbana1   Sim  \n",
      "111611             4.660000e+02                 4.0          Urbana1   Sim  \n",
      "111681             5.300000e+02                 5.0          Urbana1   Sim  \n",
      "111691             8.750000e+02                 4.0          Urbana1   Sim  \n",
      "111701             5.880000e+02                 3.0          Urbana1   Sim  \n",
      "111766             5.200000e+02                 4.0          Urbana1   Não  \n",
      "111783             2.680000e+02                 5.0          Urbana1   Sim  \n",
      "111785             7.500000e+02                 2.0          Urbana1   Não  \n",
      "111787             1.550000e+02                 5.0          Urbana1   Sim  \n",
      "111821             2.130000e+02                 5.0          Urbana1   Sim  \n",
      "111837             7.200000e+02                 5.0          Urbana1   Sim  \n",
      "111861             6.100000e+02                 5.0           Rural4   Não  \n",
      "111873             8.260000e+02                 3.0          Urbana1   Não  \n",
      "111901             5.000000e+02                 4.0          Urbana1   Sim  \n",
      "111943             4.000000e+02                 3.0          Urbana1   Sim  \n",
      "111944             1.131000e+03                 3.0          Urbana1   Sim  \n",
      "111992             5.120000e+02                 4.0          Urbana1   Sim  \n",
      "112042             8.000000e+02                 2.0          Urbana1   Não  \n",
      "112049             9.000000e+02                 5.0          Urbana1   Sim  \n",
      "112084             1.500000e+03                 2.0          Urbana1   Não  \n",
      "112087             9.300000e+02                 2.0          Urbana1   Não  \n",
      "112177             1.000000e+12                 9.0          Urbana1   Sim  \n",
      "112179             4.400000e+02                 5.0          Urbana1   Sim  \n",
      "112186             2.940000e+02                 4.0          Urbana1   Sim  \n",
      "112210             1.125000e+03                 4.0           Rural4   Não  \n",
      "\n",
      "[1029 rows x 9 columns]\n",
      "Proprio Pago             625\n",
      "Alugado                  232\n",
      "Proprio Pagando           82\n",
      "Cedido de outra forma     70\n",
      "Outro                     13\n",
      "Cedido por empregador      7\n",
      "Name: Condição, dtype: int64\n",
      "Sim    775\n",
      "Não    254\n",
      "Name: Celular, dtype: int64\n",
      "Sim    1020\n",
      "Não       9\n",
      "Name: Televisão, dtype: int64\n",
      "Sim    735\n",
      "Não    294\n",
      "Name: Microcomputador, dtype: int64\n"
     ]
    }
   ],
   "source": [
    "#Se usar o arquivo descompactado\n",
    "#pd.read_csv('DOM2015.csv',sep=',')\n",
    "\n",
    "#Se usar o arquivo compactado como está no dropbox púbico\n",
    "#pd.read_csv('DOM2015csv.zip', compression='zip', header=0, sep=',', quotechar='\"')\n",
    "# Projeto1CD\n",
    "import pandas as pd\n",
    "import numpy as np\n",
    "import matplotlib.pyplot as plt\n",
    "\n",
    "dados = pd.read_csv(\"PNAD/PNAD DOM2009/DOM2009csv/DOM2009.csv\")\n",
    "dados = dados.rename(columns={\"UF\":\"Estados\",\"V0207\":\"Condição\",\"V2020\":\"Celular\",\"V4621\":\"Renda\",\"V0226\":\"Televisão\",\"V0232\":\"Microcomputador\",\"V0105\":\"Total de moradores\",\"V4105\":\"CódigoCensitário\",\"V2123\":\"Menor\"})\n",
    "dados_resumidos = dados[dados.Estados == 35] #filtragem para São Paulo \n",
    "\n",
    "dados_resumidos = dados_resumidos.ix[:, [\"Estados\",\"Condição\",\"Celular\",\"Televisão\",\"Microcomputador\",\"Renda Mensal Domiciliar\",\"Total de moradores\",\"CódigoCensitário\",\"Menor\"]]\n",
    "dados_resumidos.Condição = dados_resumidos.Condição.astype('category')\n",
    "dados_resumidos.Celular = dados_resumidos.Celular.astype('category')\n",
    "dados_resumidos.Televisão = dados_resumidos.Televisão.astype('category')\n",
    "dados_resumidos.Microcomputador = dados_resumidos.Microcomputador.astype('category')\n",
    "dados_resumidos.CódigoCensitário= dados_resumidos.CódigoCensitário.astype('category')\n",
    "dados_resumidos.Menor = dados_resumidos.Menor.astype('category')\n",
    "dados_resumidos.Condição.cat.categories = ('Proprio Pago', 'Proprio Pagando','Alugado','Cedido por empregador','Cedido de outra forma','Outro')\n",
    "dados_resumidos.Celular.cat.categories = ('Sim', 'Não')\n",
    "dados_resumidos.Televisão.cat.categories = ('Sim', 'Não')\n",
    "dados_resumidos.Microcomputador.cat.categories = ('Sim', 'Não')\n",
    "dados_resumidos.CódigoCensitário.cat.categories = ('Urbana1','Urbana2','Urbana3','Rural1','Rural2','Rural3','Rural4')\n",
    "dados_resumidos.Menor.cat.categories = ('Sim','Não')\n",
    "dados_resumidos= dados_resumidos[dados_resumidos.Condição.notnull()]\n",
    "dados_resumidos= dados_resumidos[dados_resumidos.Microcomputador.notnull()]\n",
    "dados_resumidos= dados_resumidos[dados_resumidos.Menor.notnull()]\n",
    "\n",
    "\n",
    "dd = dados_resumidos.Celular.value_counts()\n",
    "print(dd.plot(kind='pie', colors=('blue', 'red'), autopct=\"%0.2f\",legend=False))\n",
    "\n",
    "print(dados_resumidos)\n",
    "print(dados_resumidos.Condição.value_counts())\n",
    "print(dados_resumidos.Celular.value_counts())\n",
    "print(dados_resumidos.Televisão.value_counts())\n",
    "print(dados_resumidos.Microcomputador.value_counts())\n",
    "\n",
    "\n"
   ]
  },
  {
   "cell_type": "code",
   "execution_count": null,
   "metadata": {
    "collapsed": true
   },
   "outputs": [],
   "source": []
  },
  {
   "cell_type": "markdown",
   "metadata": {},
   "source": [
    "___\n",
    "## Conclusão "
   ]
  },
  {
   "cell_type": "markdown",
   "metadata": {
    "collapsed": true
   },
   "source": [
    "Descreva aqui suas conclusões!"
   ]
  },
  {
   "cell_type": "code",
   "execution_count": null,
   "metadata": {
    "collapsed": true
   },
   "outputs": [],
   "source": []
  }
 ],
 "metadata": {
  "anaconda-cloud": {},
  "kernelspec": {
   "display_name": "Python 3",
   "language": "python",
   "name": "python3"
  },
  "language_info": {
   "codemirror_mode": {
    "name": "ipython",
    "version": 3
   },
   "file_extension": ".py",
   "mimetype": "text/x-python",
   "name": "python",
   "nbconvert_exporter": "python",
   "pygments_lexer": "ipython3",
   "version": "3.6.0"
  }
 },
 "nbformat": 4,
 "nbformat_minor": 1
}
