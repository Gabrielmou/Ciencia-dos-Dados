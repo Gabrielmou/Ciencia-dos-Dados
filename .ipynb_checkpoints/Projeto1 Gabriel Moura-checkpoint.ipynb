{
 "cells": [
  {
   "cell_type": "markdown",
   "metadata": {},
   "source": [
    "___\n",
    "# Ciência dos Dados - PROJETO 1"
   ]
  },
  {
   "cell_type": "markdown",
   "metadata": {},
   "source": [
    "GABRIEL MOURA ALMEIDA"
   ]
  },
  {
   "cell_type": "markdown",
   "metadata": {},
   "source": [
    "Análise do uso de aparelhos eletrônicos em domicílios de acordo com as faixas de renda mensais, no estado de São Paulo."
   ]
  },
  {
   "cell_type": "markdown",
   "metadata": {},
   "source": [
    "___\n",
    "## Introdução\n",
    "\n",
    "Acesso à internet e TV\n",
    "\n",
    "Principal pergunta: •\tQual dos 3 aparelhos eletrônicos: televisão, microcomputadores e celulares aparecem mais nos domicílios do estado de São Paulo?\n",
    "\n",
    "Pretendo analisar e comparar o uso de aparelhos eletrônicos como: computadores, celulares e televisão em diferentes faixas de renda mensal no estado de São Paulo.\n",
    "\n",
    "Variáveis de Interesse:\n",
    "- Rendimento mensal domiciliar per capita\n",
    "- Tem telefone móvel celular\n",
    "- Tem televisão em cores\n",
    "- Microcomputador é utilizado para acessar a Internet\n",
    "- Existência de morador de 0 a 17 anos de idade\n",
    "\n",
    "\n",
    "Filtro de Tipos de Domicílios\n",
    "- Unidade da Federação\n",
    "- Total de moradores\n",
    "- Condição de ocupação do domicílio\n",
    "- Código de situação censitária\n"
   ]
  },
  {
   "cell_type": "markdown",
   "metadata": {},
   "source": [
    "___\n",
    "## Análise e Resultados"
   ]
  },
  {
   "cell_type": "code",
   "execution_count": 132,
   "metadata": {
    "collapsed": true
   },
   "outputs": [],
   "source": [
    "%matplotlib inline\n",
    "import pandas as pd\n",
    "import matplotlib.pyplot as plt\n",
    "import numpy as np\n",
    "import os\n",
    "import matplotlib\n",
    "matplotlib.style.use('ggplot')"
   ]
  },
  {
   "cell_type": "code",
   "execution_count": 133,
   "metadata": {
    "collapsed": false
   },
   "outputs": [
    {
     "name": "stdout",
     "output_type": "stream",
     "text": [
      "Esperamos trabalhar no diretório\n",
      "C:\\Users\\Gabriel Moura\\Documents\\Insper\\2 Semestre\\Ciência dos Dados\\Projeto 1\\Ciencia-dos-Dados\n"
     ]
    }
   ],
   "source": [
    "print('Esperamos trabalhar no diretório')\n",
    "print(os.getcwd())\n"
   ]
  },
  {
   "cell_type": "code",
   "execution_count": 134,
   "metadata": {
    "collapsed": false,
    "scrolled": false
   },
   "outputs": [
    {
     "data": {
      "text/plain": [
       "<matplotlib.axes._subplots.AxesSubplot at 0x22e96deb630>"
      ]
     },
     "execution_count": 134,
     "metadata": {},
     "output_type": "execute_result"
    },
    {
     "data": {
      "image/png": "[encoded data removed]",
      "text/plain": [
       "<matplotlib.figure.Figure at 0x22e96e896a0>"
      ]
     },
     "metadata": {},
     "output_type": "display_data"
    }
   ],
   "source": [
    "# Projeto1CD\n",
    "import pandas as pd\n",
    "import numpy as np\n",
    "import matplotlib.pyplot as plt\n",
    "\n",
    "#dados = pd.read_csv(\"PNAD/PNAD DOM2009/DOM2009csv/DOM2009.csv\")\n",
    "#dados = pd.read_table(\"PNAD/PNAD DOM2009/DOM2009csv/DOM2009.csv\", encoding=\"windows-1252\", sep=\",\")\n",
    "dados = pd.read_csv('PNAD/PNAD DOM2009/DOM2009csv/DOM2009.csv',sep=',')\n",
    "dados = dados.rename(columns={\"UF\":\"Estados\",\"V0207\":\"Condição\",\"V2020\":\"Celular\",\"V4621\":\"Renda\",\"V0226\":\"Televisão\",\"V0232\":\"Microcomputador\",\"V0105\":\"Total de moradores\",\"V4105\":\"CódigoCensitário\",\"V2123\":\"Menor\"})\n",
    "dados_resumidos = dados[dados.Estados == 35] #filtragem para São Paulo \n",
    "\n",
    "dados_resumidos = dados_resumidos.ix[:, [\"Celular\",\"Televisão\",\"Microcomputador\",\"Renda\",\"Total de moradores\",\"CódigoCensitário\",\"Menor\"]]\n",
    "#dados_resumidos.Condição = dados_resumidos.Condição.astype('category') \n",
    "dados_resumidos.Celular = dados_resumidos.Celular.astype('category')\n",
    "dados_resumidos.Televisão = dados_resumidos.Televisão.astype('category')\n",
    "dados_resumidos.Microcomputador = dados_resumidos.Microcomputador.astype('category')\n",
    "dados_resumidos.CódigoCensitário= dados_resumidos.CódigoCensitário.astype('category')\n",
    "dados_resumidos.Menor = dados_resumidos.Menor.astype('category')\n",
    "#dados_resumidos.Condição.cat.categories = ('Proprio Pago', 'Proprio Pagando','Alugado','Cedido por empregador','Cedido de outra forma','Outro')\n",
    "dados_resumidos.Celular.cat.categories = ('Sim', 'Não')\n",
    "dados_resumidos.Televisão.cat.categories = ('Sim', 'Não')\n",
    "dados_resumidos.Microcomputador.cat.categories = ('Sim', 'Não')\n",
    "dados_resumidos.CódigoCensitário.cat.categories = ('Urbana1','Urbana2','Urbana3','Rural1','Rural2','Rural3','Rural4')\n",
    "dados_resumidos.Menor.cat.categories = ('Sim','Não')\n",
    "#dados_resumidos= dados_resumidos[dados_resumidos.Condição.notnull()]\n",
    "dados_resumidos= dados_resumidos[dados_resumidos.Microcomputador.notnull()]\n",
    "dados_resumidos= dados_resumidos[dados_resumidos.Menor.notnull()]\n",
    "\n",
    "\n",
    "dfc = dados_resumidos.Celular.value_counts(True)\n",
    "dfc.plot(kind='pie', colors=('blue', 'red'), autopct=\"%0.2f\",legend=True)\n",
    "\n",
    "\n",
    "\n",
    "\n"
   ]
  },
  {
   "cell_type": "code",
   "execution_count": 135,
   "metadata": {
    "collapsed": false
   },
   "outputs": [
    {
     "data": {
      "text/plain": [
       "<matplotlib.axes._subplots.AxesSubplot at 0x22e96e775c0>"
      ]
     },
     "execution_count": 135,
     "metadata": {},
     "output_type": "execute_result"
    },
    {
     "data": {
      "image/png": "[encoded data removed]",
      "text/plain": [
       "<matplotlib.figure.Figure at 0x22e96e6d550>"
      ]
     },
     "metadata": {},
     "output_type": "display_data"
    }
   ],
   "source": [
    "dfc1 = dados_resumidos.Televisão.value_counts(True)\n",
    "dfc1.plot(kind='pie', colors=('blue', 'red'), autopct=\"%0.2f\",legend=True)"
   ]
  },
  {
   "cell_type": "code",
   "execution_count": 136,
   "metadata": {
    "collapsed": false
   },
   "outputs": [
    {
     "data": {
      "text/plain": [
       "<matplotlib.axes._subplots.AxesSubplot at 0x22e96e6d278>"
      ]
     },
     "execution_count": 136,
     "metadata": {},
     "output_type": "execute_result"
    },
    {
     "data": {
      "image/png": "[encoded data removed]",
      "text/plain": [
       "<matplotlib.figure.Figure at 0x22e96c2a828>"
      ]
     },
     "metadata": {},
     "output_type": "display_data"
    }
   ],
   "source": [
    "dfc2 = dados_resumidos.Microcomputador.value_counts()\n",
    "dfc2.plot(kind='pie', colors=('blue', 'red'), autopct=\"%0.2f\",legend=True)"
   ]
  },
  {
   "cell_type": "code",
   "execution_count": 139,
   "metadata": {
    "collapsed": false
   },
   "outputs": [],
   "source": [
    "#ct = pd.crosstab(dados_resumidos.Microcomputador,dados_resumidos.Celular,dados_resumidos.Televisão, aggfunc=',')\n",
    "#ct = (ct/ct.sum().sum()*100).round(decimals=0)\n",
    "#ct.plot(kind='bar', color=('yellow', 'salmon','red'))\n",
    "#plt.ylabel('Frequência Relativa (em %)')"
   ]
  },
  {
   "cell_type": "code",
   "execution_count": 140,
   "metadata": {
    "collapsed": false,
    "scrolled": true
   },
   "outputs": [
    {
     "data": {
      "text/plain": [
       "<matplotlib.text.Text at 0x22e97022fd0>"
      ]
     },
     "execution_count": 140,
     "metadata": {},
     "output_type": "execute_result"
    },
    {
     "data": {
      "image/png": "[encoded data removed]",
      "text/plain": [
       "<matplotlib.figure.Figure at 0x22e96ffaa90>"
      ]
     },
     "metadata": {},
     "output_type": "display_data"
    }
   ],
   "source": [
    "dados_resumidos.Renda.describe()\n",
    "faixa = range(10,500,50)\n",
    "Renda_cat = pd.cut(dados_resumidos.Renda, bins=faixa)\n",
    "Renda_cat.value_counts(sort=False, normalize=True)*100\n",
    "plot = dados_resumidos.Renda.plot.hist(bins=faixa,title='GRAFICO DE COLUNAS', figsize=(6, 6), alpha=0.9)\n",
    "plt.ylabel('Frequência absoluta')\n",
    "plt.xlabel('renda (em reais)')\n"
   ]
  },
  {
   "cell_type": "code",
   "execution_count": null,
   "metadata": {
    "collapsed": false
   },
   "outputs": [],
   "source": [
    "from numpy import zeros_like\n",
    "plot = dados_resumidos.Renda.plot.hist(bins=faixa,title='GRAFICO DE COLUNAS', weights=zeros_like(dados_resumidos.Renda)+1./dados_resumidos.Renda.size*100, figsize=(6, 6), alpha=0.7, normed=1)\n",
    "plt.ylabel('Frequência relativa (em %)')\n",
    "plt.xlabel('renda (em reais)')"
   ]
  },
  {
   "cell_type": "code",
   "execution_count": null,
   "metadata": {
    "collapsed": false
   },
   "outputs": [],
   "source": [
    "dados_resumidos"
   ]
  },
  {
   "cell_type": "markdown",
   "metadata": {},
   "source": [
    "___\n",
    "## Conclusão "
   ]
  },
  {
   "cell_type": "markdown",
   "metadata": {
    "collapsed": true
   },
   "source": [
    "Descreva aqui suas conclusões!"
   ]
  },
  {
   "cell_type": "code",
   "execution_count": null,
   "metadata": {
    "collapsed": true
   },
   "outputs": [],
   "source": []
  },
  {
   "cell_type": "code",
   "execution_count": null,
   "metadata": {
    "collapsed": true
   },
   "outputs": [],
   "source": []
  },
  {
   "cell_type": "code",
   "execution_count": null,
   "metadata": {
    "collapsed": true
   },
   "outputs": [],
   "source": []
  },
  {
   "cell_type": "code",
   "execution_count": null,
   "metadata": {
    "collapsed": true
   },
   "outputs": [],
   "source": []
  }
 ],
 "metadata": {
  "anaconda-cloud": {},
  "kernelspec": {
   "display_name": "Python 3",
   "language": "python",
   "name": "python3"
  },
  "language_info": {
   "codemirror_mode": {
    "name": "ipython",
    "version": 3
   },
   "file_extension": ".py",
   "mimetype": "text/x-python",
   "name": "python",
   "nbconvert_exporter": "python",
   "pygments_lexer": "ipython3",
   "version": "3.6.0"
  }
 },
 "nbformat": 4,
 "nbformat_minor": 1
}
