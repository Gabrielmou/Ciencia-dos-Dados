{
 "cells": [
  {
   "cell_type": "markdown",
   "metadata": {},
   "source": [
    "# Projeto 2 - Classificador Automático de Sentimento\n",
    "\n",
    "Você foi contratado por uma empresa parar analisar como os clientes estão reagindo a um determinado produto no Twitter. A empresa deseja que você crie um programa que irá analisar as mensagens disponíveis e classificará como \"relevante\" ou \"irrelevante\". Com isso ela deseja que mensagens negativas, que denigrem o nome do produto, ou que mereçam destaque, disparem um foco de atenção da área de marketing.<br /><br />\n",
    "Como aluno de Ciência dos Dados, você lembrou do Teorema de Bayes, mais especificamente do Classificador Naive-Bayes, que é largamente utilizado em filtros anti-spam de e-mails. O classificador permite calcular qual a probabilidade de uma mensagem ser relevante dadas as palavras em seu conteúdo.<br /><br />\n",
    "Para realizar o MVP (*minimum viable product*) do projeto, você precisa implementar uma versão do classificador que \"aprende\" o que é relevante com uma base de treinamento e compara a performance dos resultados com uma base de testes.<br /><br />\n",
    "Após validado, o seu protótipo poderá também capturar e classificar automaticamente as mensagens da plataforma.\n",
    "\n",
    "## Informações do Projeto\n",
    "\n",
    "Prazo: 13/Set até às 23:59.<br />\n",
    "Grupo: 1 ou 2 pessoas.<br /><br />\n",
    "Entregáveis via GitHub: \n",
    "* Arquivo notebook com o código do classificador, seguindo as orientações abaixo.\n",
    "* Arquivo Excel com as bases de treinamento e teste totalmente classificado.\n",
    "\n",
    "**NÃO disponibilizar o arquivo com os *access keys/tokens* do Twitter.**\n",
    "\n",
    "\n",
    "### Check 3: \n",
    "\n",
    "Até o dia 06 de Setembro às 23:59, o notebook e o xlsx devem estar no Github com as seguintes evidências: \n",
    "    * Conta no twitter criada.\n",
    "    * Produto escolhido.\n",
    "    * Arquivo Excel contendo a base de treinamento e teste já classificado.\n",
    "\n",
    "Sugestão de leitura:<br />\n",
    "http://docs.tweepy.org/en/v3.5.0/index.html<br />\n",
    "https://monkeylearn.com/blog/practical-explanation-naive-bayes-classifier/"
   ]
  },
  {
   "cell_type": "markdown",
   "metadata": {},
   "source": [
    "___\n",
    "\n",
    "## Preparando o ambiente\n",
    "\n",
    "Instalando a biblioteca *tweepy* para realizar a conexão com o Twitter:"
   ]
  },
  {
   "cell_type": "code",
   "execution_count": 19,
   "metadata": {
    "collapsed": true
   },
   "outputs": [],
   "source": [
    "%%capture\n",
    "#Instalando o tweepy\n",
    "!pip install tweepy"
   ]
  },
  {
   "cell_type": "markdown",
   "metadata": {},
   "source": [
    "Importando as Bibliotecas que serão utilizadas. Esteja livre para adicionar outras."
   ]
  },
  {
   "cell_type": "code",
   "execution_count": 20,
   "metadata": {
    "collapsed": true
   },
   "outputs": [],
   "source": [
    "import tweepy\n",
    "import math\n",
    "import os.path\n",
    "import pandas as pd\n",
    "import json\n",
    "from random import shuffle"
   ]
  },
  {
   "cell_type": "markdown",
   "metadata": {},
   "source": [
    "___\n",
    "## Autenticando no  Twitter\n",
    "\n",
    "Para realizar a captura dos dados é necessário ter uma conta cadastrada no twitter:\n",
    "\n",
    "* Conta: ***[@MouRin ]***\n",
    "\n",
    "\n",
    "1. Caso ainda não tenha uma: https://twitter.com/signup\n",
    "1. Depois é necessário registrar um app para usar a biblioteca: https://apps.twitter.com/\n",
    "1. Dentro do registro do App, na aba Keys and Access Tokens, anotar os seguintes campos:\n",
    "    1. Consumer Key (API Key)\n",
    "    1. Consumer Secret (API Secret)\n",
    "1. Mais abaixo, gere um Token e anote também:\n",
    "    1. Access Token\n",
    "    1. Access Token Secret\n",
    "    \n",
    "1. Preencha os valores no arquivo \"auth.pass\"\n",
    "\n",
    "**ATENÇÃO**: Nunca divulgue os dados desse arquivo online (GitHub, etc). Ele contém as chaves necessárias para realizar as operações no twitter de forma automática e portanto é equivalente a ser \"hackeado\". De posse desses dados, pessoas mal intencionadas podem fazer todas as operações manuais (tweetar, seguir, bloquear/desbloquear, listar os seguidores, etc). Para efeito do projeto, esse arquivo não precisa ser entregue!!!"
   ]
  },
  {
   "cell_type": "code",
   "execution_count": 21,
   "metadata": {
    "collapsed": false
   },
   "outputs": [],
   "source": [
    "#Dados de autenticação do twitter:\n",
    "\n",
    "#Coloque aqui o identificador da conta no twitter: @fulano\n",
    "\n",
    "#leitura do arquivo no formato JSON\n",
    "with open('auth.pass') as fp:    \n",
    "    data = json.load(fp)\n",
    "\n",
    "#Configurando a biblioteca. Não modificar\n",
    "auth = tweepy.OAuthHandler(data['consumer_key'], data['consumer_secret'])\n",
    "auth.set_access_token(data['access_token'], data['access_token_secret'])"
   ]
  },
  {
   "cell_type": "markdown",
   "metadata": {},
   "source": [
    "___\n",
    "## Coletando Dados\n",
    "\n",
    "Agora vamos coletar os dados. Tenha em mente que dependendo do produto escolhido, não haverá uma quantidade significativa de mensagens, ou ainda poder haver muitos retweets.<br /><br /> \n",
    "Configurando:"
   ]
  },
  {
   "cell_type": "code",
   "execution_count": 22,
   "metadata": {
    "collapsed": true
   },
   "outputs": [],
   "source": [
    "#Produto escolhido:\n",
    "produto = 'Jack Daniels'\n",
    "\n",
    "#Quantidade mínima de mensagens capturadas:\n",
    "n = 500\n",
    "#Quantidade mínima de mensagens para a base de treinamento:\n",
    "t = 300\n",
    "\n",
    "#Filtro de língua, escolha uma na tabela ISO 639-1.\n",
    "lang = 'pt'"
   ]
  },
  {
   "cell_type": "markdown",
   "metadata": {},
   "source": [
    "Capturando os dados do twitter:"
   ]
  },
  {
   "cell_type": "code",
   "execution_count": 23,
   "metadata": {
    "collapsed": false
   },
   "outputs": [],
   "source": [
    "#Cria um objeto para a captura\n",
    "api = tweepy.API(auth)\n",
    "\n",
    "#Inicia a captura, para mais detalhes: ver a documentação do tweepy\n",
    "i = 1\n",
    "msgs = []\n",
    "for msg in tweepy.Cursor(api.search, q=produto, lang=lang).items():    \n",
    "    msgs.append(msg.text.lower())\n",
    "    i += 1\n",
    "    if i > n:\n",
    "        break\n",
    "\n",
    "#Embaralhando as mensagens para reduzir um possível viés\n",
    "shuffle(msgs)"
   ]
  },
  {
   "cell_type": "markdown",
   "metadata": {},
   "source": [
    "Salvando os dados em uma planilha Excel:"
   ]
  },
  {
   "cell_type": "code",
   "execution_count": 24,
   "metadata": {
    "collapsed": false
   },
   "outputs": [],
   "source": [
    "#Verifica se o arquivo não existe para não substituir um conjunto pronto\n",
    "if not os.path.isfile('./{0}.xlsx'.format(produto)):\n",
    "    \n",
    "    #Abre o arquivo para escrita\n",
    "    writer = pd.ExcelWriter('{0}.xlsx'.format(produto))\n",
    "\n",
    "    #divide o conjunto de mensagens em duas planilhas\n",
    "    dft = pd.DataFrame({'Treinamento' : pd.Series(msgs[:t])})\n",
    "    dft.to_excel(excel_writer = writer, sheet_name = 'Treinamento', index = False)\n",
    "\n",
    "    dfc = pd.DataFrame({'Teste' : pd.Series(msgs[t:])})\n",
    "    dfc.to_excel(excel_writer = writer, sheet_name = 'Teste', index = False)\n",
    "\n",
    "    #fecha o arquivo\n",
    "    writer.save()\n",
    "    "
   ]
  },
  {
   "cell_type": "markdown",
   "metadata": {},
   "source": [
    "___\n",
    "## Classificando as Mensagens\n",
    "\n",
    "Agora você deve abrir o arquivo Excel com as mensagens capturadas e classificar na Coluna B se a mensagem é relevante ou não.<br /> \n",
    "Não se esqueça de colocar um nome para a coluna na célula **B1**.<br /><br />\n",
    "Fazer o mesmo na planilha de Controle.\n",
    "\n",
    "___\n",
    "## Montando o Classificador Naive-Bayes\n",
    "\n",
    "Com a base de treinamento montada, comece a desenvolver o classificador. Escreva o seu código abaixo:\n",
    "\n",
    "Opcionalmente: \n",
    "* Limpar as mensagens removendo os caracteres: enter, :, \", ', (, ), etc. Não remover emojis.<br />\n",
    "* Corrigir separação de espaços entre palavras e/ou emojis.\n",
    "* Propor outras limpezas/transformações que não afetem a qualidade da informação.\n",
    "\n"
   ]
  },
  {
   "cell_type": "code",
   "execution_count": 2,
   "metadata": {
    "collapsed": false
   },
   "outputs": [
    {
     "name": "stdout",
     "output_type": "stream",
     "text": [
      "['tô', 'bebendo', 'jack', 'daniels', 'kkkk', 'gostei', 'de', 'um', 'vídeo', '@youtube', 'https://t.co/i8g5b0zq2b', 'shake', 'de', 'jack', 'daniels', 'de', 'mel', '‹', 'matheus', 'kuasne', '›', 'gostei', 'de', 'um', 'vídeo', '@youtube', 'https://t.co/q3hn1vghtd', 'shake', 'de', 'jack', 'daniels', 'de', 'mel', '‹', 'matheus', 'kuasne', '›', 'véi', 'não', 'entendi', 'pq', 'do', 'nada', 'a', 'gnt', 'comprou', 'um', 'jack', 'daniels', 'de', 'mel', '@_yhtan_', 'eita.', 'nada', 'de', 'tomar', 'aquele', 'drink', 'de', 'jack', 'daniels', 'de', 'novo', '(deixa', 'ele', 'pra', 'mim)', 'to', 'em', 'casa', 'ouvindo', 'gorillaz', 'e', 'tomando', 'jack', 'daniels,', 'mas', 'queria', 'mesmo', 'é', 'estar', 'num', 'role', 'ouvindo', 'funk', 'e', 'tomando', 'cantinão', 'rt', '@noavanteeu:', '\"só', 'sei', 'que', 'jack', 'daniels', 'é', 'vida', '😂\"', 'as', 'vezes', 'me', 'pego', 'pensando', 'quem', 'é', 'pior???', '(', ')', 'yeaahhh', 'rock', 'fanaticos', 'por', 'jack', 'daniels', '(', ')', '\"\"\"\"vikings\"\"\"\"', 'brasileiros', 'rt', '@lorelay_fox:', 'chocada', 'que', 'uma', 'dose', 'de', 'jack', 'daniels', 'tem', 'menos', 'calorias', 'que', 'uma', 'paçoquita!', '@mooreiraj', '@annegoiss', 'é', 'top', 'store', 'bebidas', '❤️', 'uma', 'garrafa', 'linda', 'decorada', 'com', 'luz', 'da', 'jack', 'daniels', 'como', 'diz', 'a', 'minha', 'avó:', 'só', 'um', 'jack', 'dania', 'daniels', 'e', 'um', 'cigarro', 'pra', 'me', 'salvar', 'dessa', 'porra', 'de', 'vida', 'vou', 'compra', 'um', 'jack', 'daniels', 'só', 'pra', 'tomar', 'antes', 'de', 'dormir', 'durante', 'a', 'semana', 'auge,', 'cheguei', 'na', 'facul', 'um', 'brother', 'me', 'oferece', 'um', 'jack', 'daniels', 'no', 'cantil,', 'a', 'aula', 'ta', 'bem', 'mais', 'interessante', 'ashhahha', 'rt', '@lorelay_fox:', 'chocada', 'que', 'uma', 'dose', 'de', 'jack', 'daniels', 'tem', 'menos', 'calorias', 'que', 'uma', 'paçoquita!', 'penso', 'na', 'hp', 'e', 'lembro', 'que', 'temos', 'outra', 'garrafa', 'de', 'jack', 'daniels', 'rt', '@condebarra:', 'as', 'vezes', 'me', 'pego', 'pensando', 'quem', 'é', 'pior???', '(', ')', 'yeaahhh', 'rock', 'fanaticos', 'por', 'jack', 'daniels', '(', ')', '\"\"\"\"vikings\"\"\"\"', 'brasileiros', '@chuchuchu', 'bebo', 'muito', 'de', 'vez', 'em', 'quando,', 'camis.', 'mas', 'não', 'tenho', 'costume.', 'gosto', 'de', 'jack', 'daniels,', 'mas', 'esse', 'honey', 'é', 'um', 'licor', 'né?', 'rt', '@lhb_gordo:', 'uns', 'querem', 'red', 'label,', 'outros', 'querem', 'jack', 'daniels', 'e', 'eu', 'só', 'quero:', 'https://t.co/jsngkflcrk', 'jack', 'daniels', 'é', 'conhecido', 'viu!', 'no', 'primeiro', 'ep', 'da', '3t', 'de', 'narcos,', 'o', 'pacho', 'ganha', '1', 'lt', 'rt', '@lorelay_fox:', 'chocada', 'que', 'uma', 'dose', 'de', 'jack', 'daniels', 'tem', 'menos', 'calorias', 'que', 'uma', 'paçoquita!', '@cv_gigix', '@fecavalari', 'leva', 'a', 'sua', 'jack', 'daniels', 'senão', 'vc', 'vai', 'morrer,', 'obg', 'rt', '@lorelay_fox:', 'chocada', 'que', 'uma', 'dose', 'de', 'jack', 'daniels', 'tem', 'menos', 'calorias', 'que', 'uma', 'paçoquita!', 'find', 'chegando,', 'ja', 'sinto', 'gosto', 'do', 'jack', 'bala', 'daniels', 'amor', 'deles', 'construindo', 'e', 'eu', 'fui', 'apresentado', 'a', 'um', 'tal', 'de', 'jack', 'daniels', 'honey', 'e,', 'minha', 'nossa,', 'q', 'magia', 'era', 'aquela', 'me', 'derrubou', 'pelo', 'fim-de-semana', 'bons', 'tempos...', 'saudade', 'de', 'dar', 'pt', 'com', 'uma', 'garrafa', 'de', 'jack', 'daniels', '@zerokbps', 'ta', 'doidão', 'de', 'whisky', 'né?', 'kkkk', 'tá', 'até', 'falando', 'que', 'ama', 'jack', 'daniels', 'kkkk', 'bora', 'vaquinha', 'pra', 'um', 'jack', 'daniels?', 'de', 'mel*', 'imagina', 'a', 'felicidade', 'dele', 'ao', 'ver', 'a', 'garrafa', 'de', 'jack', 'daniels', 'quase', 'vazia', 'rt', '@condebarra:', 'as', 'vezes', 'me', 'pego', 'pensando', 'quem', 'é', 'pior???', '(', ')', 'yeaahhh', 'rock', 'fanaticos', 'por', 'jack', 'daniels', '(', ')', '\"\"\"\"vikings\"\"\"\"', 'brasileiros', 'meninas', 'descobri', 'uma', 'bebida', 'dos', 'deuses', 'chamada', 'jack', 'daniels', 'fire', 'pqp', 'queria', 'beber', 'um', 'jack', 'daniels', 'honey', 'jack', 'daniels', 'é', 'a', 'melhor', 'bebida', 'e', 'vai', 'bem', 'c', 'tudo', 'mas', 'sozinho', 'é', 'melhor', 'ainda', 'rt', '@lorelay_fox:', 'chocada', 'que', 'uma', 'dose', 'de', 'jack', 'daniels', 'tem', 'menos', 'calorias', 'que', 'uma', 'paçoquita!', 'rt', '@condebarra:', 'as', 'vezes', 'me', 'pego', 'pensando', 'quem', 'é', 'pior???', '(', ')', 'yeaahhh', 'rock', 'fanaticos', 'por', 'jack', 'daniels', '(', ')', '\"\"\"\"vikings\"\"\"\"', 'brasileiros', '@alexcanalmusic', '@fsmartins78', '@freitas__2017', 'jack', 'daniels', 'com', 'gelo', 'é', 'pacabá.', 'poderia', 'ter', 'promoção', 'de', 'jack', 'daniels', 'na', 'sexta', 'feira', 'ne', 'procura-se', 'amigo', 'para', 'dividir', 'um', 'jack', 'daniels', 'hoje', '😇😇', 'essa', 'jack', 'daniels', 'deve', 'ser', 'muito', 'gostosa', 'slc', 'com', 'certeza', 'que', 'eu', 'ia', 'comprar', 'jack', 'daniels', 'pra', 'fazer', 'pudim,', 'aham', 'kakakaka', 'https://t.co/wogkodufxr', 'tenho', 'preguiça', 'de', 'compra', 'comida', 'pra', 'mim,', 'mais', 'tarde', 'ainda', 'tenho', 'que', 'ir', 'compra', 'um', 'jack', 'daniels', 'só', 'um', 'jack', 'daniels', 'com', 'guarana', 'antarctica😍😎', 'rt', '@lorelay_fox:', 'chocada', 'que', 'uma', 'dose', 'de', 'jack', 'daniels', 'tem', 'menos', 'calorias', 'que', 'uma', 'paçoquita!', 'rt', '@enioluccajr:', '@alexcanalmusic', '@fsmartins78', '@freitas__2017', 'jack', 'daniels', 'com', 'gelo', 'é', 'pacabá.', 'rt', '@noavanteeu:', '\"só', 'sei', 'que', 'jack', 'daniels', 'é', 'vida', '😂\"', 'ate', 'me', 'vejo', 'daqui', '10', 'anos', 'nos', 'momentos', 'de', 'tristeza', 'co', 'um', 'cigarro', 'na', 'mao', 'the', 'nbhd', 'de', 'fundo', 'e', 'tomando', 'uns', 'jack', 'daniels', 'shots', 'de', 'jack', 'daniels.', 'da', 'hora,', 'né?', 'acho', 'que', 'não.', '#celoko', 'vontade', 'de', 'tomar', 'um', 'jack', 'daniels', 'de', 'mel', 'com', 'gelo', 'kkk', 'rt', '@lorelay_fox:', 'chocada', 'que', 'uma', 'dose', 'de', 'jack', 'daniels', 'tem', 'menos', 'calorias', 'que', 'uma', 'paçoquita!', 'se', 'jack', 'daniels', 'não', 'é', 'bom,', 'não', 'sei', 'oque', 'é', 'nesse', 'mundo', 'rt', '@lorelay_fox:', 'chocada', 'que', 'uma', 'dose', 'de', 'jack', 'daniels', 'tem', 'menos', 'calorias', 'que', 'uma', 'paçoquita!', 'rt', '@lorelay_fox:', 'chocada', 'que', 'uma', 'dose', 'de', 'jack', 'daniels', 'tem', 'menos', 'calorias', 'que', 'uma', 'paçoquita!', 'tamo', 'tomando', 'um', 'kitão', 'de', 'jack', 'daniels,', 'bagulho', 'diferenciado', 'eu', 'não', 'sei', 'pq', 'eu', 'fui', 'tomar', 'jack', 'daniels', 'ontem', 'na', 'morales', 'acordou', 'sem', 'ressaca', 'nenhuma', 'né', ',', 'é', 'culpa', 'da', 'jack', 'daniels', '🎶', 'rt', '@lorelay_fox:', 'chocada', 'que', 'uma', 'dose', 'de', 'jack', 'daniels', 'tem', 'menos', 'calorias', 'que', 'uma', 'paçoquita!', 'rt', '@4daddysprincess:', 'jack', 'daniels', 'é', 'a', 'melhor', 'bebida', 'e', 'vai', 'bem', 'c', 'tudo', 'mas', 'sozinho', 'é', 'melhor', 'ainda', 'rt', '@lorelay_fox:', 'chocada', 'que', 'uma', 'dose', 'de', 'jack', 'daniels', 'tem', 'menos', 'calorias', 'que', 'uma', 'paçoquita!', '@srryforwhoiam', 'bebi', 'jack', 'daniels', 'hj', 'e', 'vc', 'tava', 'certo', 'eh', 'mt', 'ruim', 'aquilo', 'sem', 'condiçoes', 'jack', 'daniels', 'cai', 'bem,', 'já', 'q', 'o', 'assunto', 'é', 'pesado', '\"red', 'label', 'ou', 'jack', 'daniels?\"', 'já', 'fico', 'louca', 'com', 'um', 'copinho', 'de', 'vinho,', 'imagina', 'esses', 'whisky,', 'eu', 'vou', 'morrer', 'kkkkk', 'rt', '@lorelay_fox:', 'chocada', 'que', 'uma', 'dose', 'de', 'jack', 'daniels', 'tem', 'menos', 'calorias', 'que', 'uma', 'paçoquita!', '@emistakonski', 'certamente....', 'eu', 'vou', 'comemorar', 'o', 'aniver', 'do', 'jack', 'daniels', '@argel_santana', '@oliveiragmari', '@acarolrammos', 'ele', 'disse', 'pra', 'mim', 'semana', 'passada', 'que', 'ia', 'ter', 'que', 'dar', 'uma', 'jack', 'daniels', 'pra', 'não', 'sei', 'quem', 'jack', 'daniels', 'tennesse', 'é', 'do', 'caralho', 'talvez', 'amanhã', 'eu', 'compre', 'uma', 'garrafa', 'de', 'jack', 'daniels', 'rt', '@lorelay_fox:', 'chocada', 'que', 'uma', 'dose', 'de', 'jack', 'daniels', 'tem', 'menos', 'calorias', 'que', 'uma', 'paçoquita!', 'tô', 'apaixonado', 'por', 'jack', 'daniels', 'rt', '@lorelay_fox:', 'chocada', 'que', 'uma', 'dose', 'de', 'jack', 'daniels', 'tem', 'menos', 'calorias', 'que', 'uma', 'paçoquita!', 'ontem', 'as', '23', 'da', 'noite', 'to', 'virando', 'jack', 'daniels', 'sozinho', 'infelismente', 'tive', 'que', 'ser', 'emcubado', 'queria', 'compartilhar', 'que', 'meu', 'prof', 'foi', 'com', 'uma', 'garrafinha', 'de', 'jack', 'daniels', 'pra', 'aula,', 'ficou', 'bebendo', 'e', 'oferecendo', 'pros', 'alunos,', 'um', 'dos', 'meninos', 'act', 'rt', '@lorelay_fox:', 'chocada', 'que', 'uma', 'dose', 'de', 'jack', 'daniels', 'tem', 'menos', 'calorias', 'que', 'uma', 'paçoquita!', 'rt', '@lorelay_fox:', 'chocada', 'que', 'uma', 'dose', 'de', 'jack', 'daniels', 'tem', 'menos', 'calorias', 'que', 'uma', 'paçoquita!', 'rt', '@lorelay_fox:', 'chocada', 'que', 'uma', 'dose', 'de', 'jack', 'daniels', 'tem', 'menos', 'calorias', 'que', 'uma', 'paçoquita!', 'rt', '@condebarra:', 'as', 'vezes', 'me', 'pego', 'pensando', 'quem', 'é', 'pior???', '(', ')', 'yeaahhh', 'rock', 'fanaticos', 'por', 'jack', 'daniels', '(', ')', '\"\"\"\"vikings\"\"\"\"', 'brasileiros', 'rt', '@lhb_gordo:', 'uns', 'querem', 'red', 'label,', 'outros', 'querem', 'jack', 'daniels', 'e', 'eu', 'só', 'quero:', 'https://t.co/jsngkflcrk', 'aquele', 'momento', 'que', 'o', 'chefe', 'chega', 'pra', 'ver', 'o', 'que', 'eu', 'to', 'fazendo', 'no', 'solid', 'e', 'percebe', 'que', 'eu', 'fiz', 'uma', 'garrafa', 'de', 'jack', 'daniels.', 'ele', 'achou', 'o', 'máximo', 'rt', '@lorelay_fox:', 'chocada', 'que', 'uma', 'dose', 'de', 'jack', 'daniels', 'tem', 'menos', 'calorias', 'que', 'uma', 'paçoquita!', 'rt', '@lorelay_fox:', 'chocada', 'que', 'uma', 'dose', 'de', 'jack', 'daniels', 'tem', 'menos', 'calorias', 'que', 'uma', 'paçoquita!', 'queria', 'uma', 'garrafa', 'de', 'jack', 'daniels,', 'só', 'a', 'garrafa', 'msm', 'acordei', 'sem', 'ressaca', 'nenhuma', 'né,', 'isso', 'foi', 'a', 'jack', 'daniels', 'um', 'jack', 'daniels', 'c', 'gelo', 'de', 'água', 'de', 'coco', 'e', 'um', 'beck', 'é', 'tudo', 'q', 'eu', 'queria', 'agora', 'só', 'as', 'q', 'recebem', 'jack', 'daniels', 'do', 'dj', 'pereira', 'na', 'boca', '@sabrinadeamorim', 'que', 'jack', 'daniels', 'maravilhosa', 'rt', '@lhb_gordo:', 'uns', 'querem', 'red', 'label,', 'outros', 'querem', 'jack', 'daniels', 'e', 'eu', 'só', 'quero:', 'https://t.co/jsngkflcrk', 'eu', 'e', 'o', 'jack', 'daniels', 'formamos', 'uma', 'amizade', 'legal', 'ontem', 'rt', '@lorelay_fox:', 'chocada', 'que', 'uma', 'dose', 'de', 'jack', 'daniels', 'tem', 'menos', 'calorias', 'que', 'uma', 'paçoquita!', 'rt', '@lorelay_fox:', 'chocada', 'que', 'uma', 'dose', 'de', 'jack', 'daniels', 'tem', 'menos', 'calorias', 'que', 'uma', 'paçoquita!', 'estava', 'tomando', 'um', 'jack', 'daniels', 'ontem', 'e', 'ouvindo', 'alguns', 'idiotas', 'pedindo', 'fora', 'temer.ai', 'eu', 'pergunto:', 'se', 'o', 'temer', 'sair', 'quem', 'vai', 'governar', 'ate', '2018?', 'hoje', 'eu', 'quero', 'investir', 'pra', 'depois', 'me', 'distrair', 'tomando', 'uma', 'jack', 'daniels,', 'andando', 'de', 'jet', 'ski', 'essa', 'cidra', 'c', 'whiskey', 'de', 'jack', 'daniels', 'bate', 'bem', 'ya,', 'umas', 'quantas', 'dessas', 'fica', 'se', 'bem', 'feliz', 'tomei', 'a', 'última', 'dose', 'da', 'minha', 'mini', 'jack', 'daniels', 'tô', 'loko', 'and', 'triste', 'pq', 'acabou', 'rt', '@mollina_59:', 'acordei', 'sem', 'ressaca', 'nenhuma', 'né,', 'isso', 'foi', 'a', 'jack', 'daniels', 'entre', 'amor', 'e', 'jack', 'daniels', 'qual', 'vcs', 'preferem', 'a', 'normal', 'ou', 'a', 'de', 'mel?', 'quero', 'um', 'jack', 'daniels', 'de', 'leve', 'acordou', 'sem', 'ressaca', 'nenhuma', 'né', '?', 'isso', 'foi', 'a', 'jack', 'daniels', 'acordou', 'sem', 'ressaca', 'nenhuma', 'né...', 'isso', 'foi', 'a', 'jack', 'daniels', '😎🙌🏻', 'nao', 'bebo', 'álcool', 'mas', 'nao', 'morro', 'sem', 'provar', 'um', 'bom', 'jack', 'daniels', 'esse', 'jack', 'daniels', 'honey', 'é', 'muito', 'bom,', 'vou', 'dormir', 'bem', 'https://t.co/8ptsudggbh', 'jack', 'daniels', 'de', 'mel', 'é', 'horrível', 'me', 'amarro', 'no', 'jack', 'daniels', 'com', 'guarana', 'antarctica😍😎', 'tomando', 'aquela', 'dose', 'de', 'jack', 'daniels', 'sem', 'preocupacoes', 'rt', '@noavanteeu:', '\"só', 'sei', 'que', 'jack', 'daniels', 'é', 'vida', '😂\"', 'jack', 'daniels', 'cai', 'bem', 'já', 'que', 'o', 'assunto', 'é', 'pesado', 'tô', 'bebendo', 'jack', 'daniels', 'kkkk', 'gostei', 'de', 'um', 'vídeo', '@youtube', 'https://t.co/i8g5b0zq2b', 'shake', 'de', 'jack', 'daniels', 'de', 'mel', '‹', 'matheus', 'kuasne', '›', 'gostei', 'de', 'um', 'vídeo', '@youtube', 'https://t.co/q3hn1vghtd', 'shake', 'de', 'jack', 'daniels', 'de', 'mel', '‹', 'matheus', 'kuasne', '›', 'véi', 'não', 'entendi', 'pq', 'do', 'nada', 'a', 'gnt', 'comprou', 'um', 'jack', 'daniels', 'de', 'mel', '@_yhtan_', 'eita.', 'nada', 'de', 'tomar', 'aquele', 'drink', 'de', 'jack', 'daniels', 'de', 'novo', '(deixa', 'ele', 'pra', 'mim)', 'to', 'em', 'casa', 'ouvindo', 'gorillaz', 'e', 'tomando', 'jack', 'daniels,', 'mas', 'queria', 'mesmo', 'é', 'estar', 'num', 'role', 'ouvindo', 'funk', 'e', 'tomando', 'cantinão', 'rt', '@noavanteeu:', '\"só', 'sei', 'que', 'jack', 'daniels', 'é', 'vida', '😂\"', 'as', 'vezes', 'me', 'pego', 'pensando', 'quem', 'é', 'pior???', '(', ')', 'yeaahhh', 'rock', 'fanaticos', 'por', 'jack', 'daniels', '(', ')', '\"\"\"\"vikings\"\"\"\"', 'brasileiros', 'rt', '@lorelay_fox:', 'chocada', 'que', 'uma', 'dose', 'de', 'jack', 'daniels', 'tem', 'menos', 'calorias', 'que', 'uma', 'paçoquita!', '@mooreiraj', '@annegoiss', 'é', 'top', 'store', 'bebidas', '❤️', 'uma', 'garrafa', 'linda', 'decorada', 'com', 'luz', 'da', 'jack', 'daniels', 'como', 'diz', 'a', 'minha', 'avó:', 'só', 'um', 'jack', 'dania', 'daniels', 'e', 'um', 'cigarro', 'pra', 'me', 'salvar', 'dessa', 'porra', 'de', 'vida', 'vou', 'compra', 'um', 'jack', 'daniels', 'só', 'pra', 'tomar', 'antes', 'de', 'dormir', 'durante', 'a', 'semana', 'auge,', 'cheguei', 'na', 'facul', 'um', 'brother', 'me', 'oferece', 'um', 'jack', 'daniels', 'no', 'cantil,', 'a', 'aula', 'ta', 'bem', 'mais', 'interessante', 'ashhahha', 'rt', '@lorelay_fox:', 'chocada', 'que', 'uma', 'dose', 'de', 'jack', 'daniels', 'tem', 'menos', 'calorias', 'que', 'uma', 'paçoquita!', 'penso', 'na', 'hp', 'e', 'lembro', 'que', 'temos', 'outra', 'garrafa', 'de', 'jack', 'daniels', 'rt', '@condebarra:', 'as', 'vezes', 'me', 'pego', 'pensando', 'quem', 'é', 'pior???', '(', ')', 'yeaahhh', 'rock', 'fanaticos', 'por', 'jack', 'daniels', '(', ')', '\"\"\"\"vikings\"\"\"\"', 'brasileiros', '@chuchuchu', 'bebo', 'muito', 'de', 'vez', 'em', 'quando,', 'camis.', 'mas', 'não', 'tenho', 'costume.', 'gosto', 'de', 'jack', 'daniels,', 'mas', 'esse', 'honey', 'é', 'um', 'licor', 'né?', 'rt', '@lhb_gordo:', 'uns', 'querem', 'red', 'label,', 'outros', 'querem', 'jack', 'daniels', 'e', 'eu', 'só', 'quero:', 'https://t.co/jsngkflcrk', 'jack', 'daniels', 'é', 'conhecido', 'viu!', 'no', 'primeiro', 'ep', 'da', '3t', 'de', 'narcos,', 'o', 'pacho', 'ganha', '1', 'lt', 'rt', '@lorelay_fox:', 'chocada', 'que', 'uma', 'dose', 'de', 'jack', 'daniels', 'tem', 'menos', 'calorias', 'que', 'uma', 'paçoquita!', '@cv_gigix', '@fecavalari', 'leva', 'a', 'sua', 'jack', 'daniels', 'senão', 'vc', 'vai', 'morrer,', 'obg', 'rt', '@lorelay_fox:', 'chocada', 'que', 'uma', 'dose', 'de', 'jack', 'daniels', 'tem', 'menos', 'calorias', 'que', 'uma', 'paçoquita!', 'find', 'chegando,', 'ja', 'sinto', 'gosto', 'do', 'jack', 'bala', 'daniels', 'amor', 'deles', 'construindo', 'e', 'eu', 'fui', 'apresentado', 'a', 'um', 'tal', 'de', 'jack', 'daniels', 'honey', 'e,', 'minha', 'nossa,', 'q', 'magia', 'era', 'aquela', 'me', 'derrubou', 'pelo', 'fim-de-semana', 'bons', 'tempos...', 'saudade', 'de', 'dar', 'pt', 'com', 'uma', 'garrafa', 'de', 'jack', 'daniels', '@zerokbps', 'ta', 'doidão', 'de', 'whisky', 'né?', 'kkkk', 'tá', 'até', 'falando', 'que', 'ama', 'jack', 'daniels', 'kkkk', 'bora', 'vaquinha', 'pra', 'um', 'jack', 'daniels?', 'de', 'mel*', 'imagina', 'a', 'felicidade', 'dele', 'ao', 'ver', 'a', 'garrafa', 'de', 'jack', 'daniels', 'quase', 'vazia', 'rt', '@condebarra:', 'as', 'vezes', 'me', 'pego', 'pensando', 'quem', 'é', 'pior???', '(', ')', 'yeaahhh', 'rock', 'fanaticos', 'por', 'jack', 'daniels', '(', ')', '\"\"\"\"vikings\"\"\"\"', 'brasileiros', 'meninas', 'descobri', 'uma', 'bebida', 'dos', 'deuses', 'chamada', 'jack', 'daniels', 'fire', 'pqp', 'queria', 'beber', 'um', 'jack', 'daniels', 'honey', 'jack', 'daniels', 'é', 'a', 'melhor', 'bebida', 'e', 'vai', 'bem', 'c', 'tudo', 'mas', 'sozinho', 'é', 'melhor', 'ainda', 'rt', '@lorelay_fox:', 'chocada', 'que', 'uma', 'dose', 'de', 'jack', 'daniels', 'tem', 'menos', 'calorias', 'que', 'uma', 'paçoquita!', 'rt', '@condebarra:', 'as', 'vezes', 'me', 'pego', 'pensando', 'quem', 'é', 'pior???', '(', ')', 'yeaahhh', 'rock', 'fanaticos', 'por', 'jack', 'daniels', '(', ')', '\"\"\"\"vikings\"\"\"\"', 'brasileiros', '@alexcanalmusic', '@fsmartins78', '@freitas__2017', 'jack', 'daniels', 'com', 'gelo', 'é', 'pacabá.', 'poderia', 'ter', 'promoção', 'de', 'jack', 'daniels', 'na', 'sexta', 'feira', 'ne', 'procura-se', 'amigo', 'para', 'dividir', 'um', 'jack', 'daniels', 'hoje', '😇😇', 'essa', 'jack', 'daniels', 'deve', 'ser', 'muito', 'gostosa', 'slc', 'com', 'certeza', 'que', 'eu', 'ia', 'comprar', 'jack', 'daniels', 'pra', 'fazer', 'pudim,', 'aham', 'kakakaka', 'https://t.co/wogkodufxr', 'tenho', 'preguiça', 'de', 'compra', 'comida', 'pra', 'mim,', 'mais', 'tarde', 'ainda', 'tenho', 'que', 'ir', 'compra', 'um', 'jack', 'daniels', 'só', 'um', 'jack', 'daniels', 'com', 'guarana', 'antarctica😍😎', 'rt', '@lorelay_fox:', 'chocada', 'que', 'uma', 'dose', 'de', 'jack', 'daniels', 'tem', 'menos', 'calorias', 'que', 'uma', 'paçoquita!', 'rt', '@enioluccajr:', '@alexcanalmusic', '@fsmartins78', '@freitas__2017', 'jack', 'daniels', 'com', 'gelo', 'é', 'pacabá.', 'rt', '@noavanteeu:', '\"só', 'sei', 'que', 'jack', 'daniels', 'é', 'vida', '😂\"', 'ate', 'me', 'vejo', 'daqui', '10', 'anos', 'nos', 'momentos', 'de', 'tristeza', 'co', 'um', 'cigarro', 'na', 'mao', 'the', 'nbhd', 'de', 'fundo', 'e', 'tomando', 'uns', 'jack', 'daniels', 'shots', 'de', 'jack', 'daniels.', 'da', 'hora,', 'né?', 'acho', 'que', 'não.', '#celoko', 'vontade', 'de', 'tomar', 'um', 'jack', 'daniels', 'de', 'mel', 'com', 'gelo', 'kkk', 'rt', '@lorelay_fox:', 'chocada', 'que', 'uma', 'dose', 'de', 'jack', 'daniels', 'tem', 'menos', 'calorias', 'que', 'uma', 'paçoquita!', 'se', 'jack', 'daniels', 'não', 'é', 'bom,', 'não', 'sei', 'oque', 'é', 'nesse', 'mundo', 'rt', '@lorelay_fox:', 'chocada', 'que', 'uma', 'dose', 'de', 'jack', 'daniels', 'tem', 'menos', 'calorias', 'que', 'uma', 'paçoquita!', 'rt', '@lorelay_fox:', 'chocada', 'que', 'uma', 'dose', 'de', 'jack', 'daniels', 'tem', 'menos', 'calorias', 'que', 'uma', 'paçoquita!', 'tamo', 'tomando', 'um', 'kitão', 'de', 'jack', 'daniels,', 'bagulho', 'diferenciado', 'eu', 'não', 'sei', 'pq', 'eu', 'fui', 'tomar', 'jack', 'daniels', 'ontem', 'na', 'morales', 'acordou', 'sem', 'ressaca', 'nenhuma', 'né', ',', 'é', 'culpa', 'da', 'jack', 'daniels', '🎶', 'rt', '@lorelay_fox:', 'chocada', 'que', 'uma', 'dose', 'de', 'jack', 'daniels', 'tem', 'menos', 'calorias', 'que', 'uma', 'paçoquita!', 'rt', '@4daddysprincess:', 'jack', 'daniels', 'é', 'a', 'melhor', 'bebida', 'e', 'vai', 'bem', 'c', 'tudo', 'mas', 'sozinho', 'é', 'melhor', 'ainda', 'rt', '@lorelay_fox:', 'chocada', 'que', 'uma', 'dose', 'de', 'jack', 'daniels', 'tem', 'menos', 'calorias', 'que', 'uma', 'paçoquita!', '@srryforwhoiam', 'bebi', 'jack', 'daniels', 'hj', 'e', 'vc', 'tava', 'certo', 'eh', 'mt', 'ruim', 'aquilo', 'sem', 'condiçoes', 'jack', 'daniels', 'cai', 'bem,', 'já', 'q', 'o', 'assunto', 'é', 'pesado', '\"red', 'label', 'ou', 'jack', 'daniels?\"', 'já', 'fico', 'louca', 'com', 'um', 'copinho', 'de', 'vinho,', 'imagina', 'esses', 'whisky,', 'eu', 'vou', 'morrer', 'kkkkk', 'rt', '@lorelay_fox:', 'chocada', 'que', 'uma', 'dose', 'de', 'jack', 'daniels', 'tem', 'menos', 'calorias', 'que', 'uma', 'paçoquita!', '@emistakonski', 'certamente....', 'eu', 'vou', 'comemorar', 'o', 'aniver', 'do', 'jack', 'daniels', '@argel_santana', '@oliveiragmari', '@acarolrammos', 'ele', 'disse', 'pra', 'mim', 'semana', 'passada', 'que', 'ia', 'ter', 'que', 'dar', 'uma', 'jack', 'daniels', 'pra', 'não', 'sei', 'quem', 'jack', 'daniels', 'tennesse', 'é', 'do', 'caralho', 'talvez', 'amanhã', 'eu', 'compre', 'uma', 'garrafa', 'de', 'jack', 'daniels', 'rt', '@lorelay_fox:', 'chocada', 'que', 'uma', 'dose', 'de', 'jack', 'daniels', 'tem', 'menos', 'calorias', 'que', 'uma', 'paçoquita!', 'tô', 'apaixonado', 'por', 'jack', 'daniels', 'rt', '@lorelay_fox:', 'chocada', 'que', 'uma', 'dose', 'de', 'jack', 'daniels', 'tem', 'menos', 'calorias', 'que', 'uma', 'paçoquita!', 'ontem', 'as', '23', 'da', 'noite', 'to', 'virando', 'jack', 'daniels', 'sozinho', 'infelismente', 'tive', 'que', 'ser', 'emcubado', 'queria', 'compartilhar', 'que', 'meu', 'prof', 'foi', 'com', 'uma', 'garrafinha', 'de', 'jack', 'daniels', 'pra', 'aula,', 'ficou', 'bebendo', 'e', 'oferecendo', 'pros', 'alunos,', 'um', 'dos', 'meninos', 'act', 'rt', '@lorelay_fox:', 'chocada', 'que', 'uma', 'dose', 'de', 'jack', 'daniels', 'tem', 'menos', 'calorias', 'que', 'uma', 'paçoquita!', 'rt', '@lorelay_fox:', 'chocada', 'que', 'uma', 'dose', 'de', 'jack', 'daniels', 'tem', 'menos', 'calorias', 'que', 'uma', 'paçoquita!', 'rt', '@lorelay_fox:', 'chocada', 'que', 'uma', 'dose', 'de', 'jack', 'daniels', 'tem', 'menos', 'calorias', 'que', 'uma', 'paçoquita!', 'rt', '@condebarra:', 'as', 'vezes', 'me', 'pego', 'pensando', 'quem', 'é', 'pior???', '(', ')', 'yeaahhh', 'rock', 'fanaticos', 'por', 'jack', 'daniels', '(', ')', '\"\"\"\"vikings\"\"\"\"', 'brasileiros', 'rt', '@lhb_gordo:', 'uns', 'querem', 'red', 'label,', 'outros', 'querem', 'jack', 'daniels', 'e', 'eu', 'só', 'quero:', 'https://t.co/jsngkflcrk', 'aquele', 'momento', 'que', 'o', 'chefe', 'chega', 'pra', 'ver', 'o', 'que', 'eu', 'to', 'fazendo', 'no', 'solid', 'e', 'percebe', 'que', 'eu', 'fiz', 'uma', 'garrafa', 'de', 'jack', 'daniels.', 'ele', 'achou', 'o', 'máximo', 'rt', '@lorelay_fox:', 'chocada', 'que', 'uma', 'dose', 'de', 'jack', 'daniels', 'tem', 'menos', 'calorias', 'que', 'uma', 'paçoquita!', 'rt', '@lorelay_fox:', 'chocada', 'que', 'uma', 'dose', 'de', 'jack', 'daniels', 'tem', 'menos', 'calorias', 'que', 'uma', 'paçoquita!', 'queria', 'uma', 'garrafa', 'de', 'jack', 'daniels,', 'só', 'a', 'garrafa', 'msm', 'acordei', 'sem', 'ressaca', 'nenhuma', 'né,', 'isso', 'foi', 'a', 'jack', 'daniels', 'um', 'jack', 'daniels', 'c', 'gelo', 'de', 'água', 'de', 'coco', 'e', 'um', 'beck', 'é', 'tudo', 'q', 'eu', 'queria', 'agora', 'só', 'as', 'q', 'recebem', 'jack', 'daniels', 'do', 'dj', 'pereira', 'na', 'boca', '@sabrinadeamorim', 'que', 'jack', 'daniels', 'maravilhosa', 'rt', '@lhb_gordo:', 'uns', 'querem', 'red', 'label,', 'outros', 'querem', 'jack', 'daniels', 'e', 'eu', 'só', 'quero:', 'https://t.co/jsngkflcrk', 'eu', 'e', 'o', 'jack', 'daniels', 'formamos', 'uma', 'amizade', 'legal', 'ontem', 'rt', '@lorelay_fox:', 'chocada', 'que', 'uma', 'dose', 'de', 'jack', 'daniels', 'tem', 'menos', 'calorias', 'que', 'uma', 'paçoquita!', 'rt', '@lorelay_fox:', 'chocada', 'que', 'uma', 'dose', 'de', 'jack', 'daniels', 'tem', 'menos', 'calorias', 'que', 'uma', 'paçoquita!', 'estava', 'tomando', 'um', 'jack', 'daniels', 'ontem', 'e', 'ouvindo', 'alguns', 'idiotas', 'pedindo', 'fora', 'temer.ai', 'eu', 'pergunto:', 'se', 'o', 'temer', 'sair', 'quem', 'vai', 'governar', 'ate', '2018?', 'hoje', 'eu', 'quero', 'investir', 'pra', 'depois', 'me', 'distrair', 'tomando', 'uma', 'jack', 'daniels,', 'andando', 'de', 'jet', 'ski', 'essa', 'cidra', 'c', 'whiskey', 'de', 'jack', 'daniels', 'bate', 'bem', 'ya,', 'umas', 'quantas', 'dessas', 'fica', 'se', 'bem', 'feliz', 'tomei', 'a', 'última', 'dose', 'da', 'minha', 'mini', 'jack', 'daniels', 'tô', 'loko', 'and', 'triste', 'pq', 'acabou', 'rt', '@mollina_59:', 'acordei', 'sem', 'ressaca', 'nenhuma', 'né,', 'isso', 'foi', 'a', 'jack', 'daniels', 'entre', 'amor', 'e', 'jack', 'daniels', 'qual', 'vcs', 'preferem', 'a', 'normal', 'ou', 'a', 'de', 'mel?', 'quero', 'um', 'jack', 'daniels', 'de', 'leve', 'acordou', 'sem', 'ressaca', 'nenhuma', 'né', '?', 'isso', 'foi', 'a', 'jack', 'daniels', 'acordou', 'sem', 'ressaca', 'nenhuma', 'né...', 'isso', 'foi', 'a', 'jack', 'daniels', '😎🙌🏻', 'nao', 'bebo', 'álcool', 'mas', 'nao', 'morro', 'sem', 'provar', 'um', 'bom', 'jack', 'daniels', 'esse', 'jack', 'daniels', 'honey', 'é', 'muito', 'bom,', 'vou', 'dormir', 'bem', 'https://t.co/8ptsudggbh', 'jack', 'daniels', 'de', 'mel', 'é', 'horrível', 'me', 'amarro', 'no', 'jack', 'daniels', 'com', 'guarana', 'antarctica😍😎', 'tomando', 'aquela', 'dose', 'de', 'jack', 'daniels', 'sem', 'preocupacoes', 'rt', '@noavanteeu:', '\"só', 'sei', 'que', 'jack', 'daniels', 'é', 'vida', '😂\"', 'jack', 'daniels', 'cai', 'bem', 'já', 'que', 'o', 'assunto', 'é', 'pesado']\n"
     ]
    },
    {
     "ename": "ZeroDivisionError",
     "evalue": "division by zero",
     "output_type": "error",
     "traceback": [
      "\u001b[0;31m---------------------------------------------------------------------------\u001b[0m",
      "\u001b[0;31mZeroDivisionError\u001b[0m                         Traceback (most recent call last)",
      "\u001b[0;32m<ipython-input-2-90271d7d6a4d>\u001b[0m in \u001b[0;36m<module>\u001b[0;34m()\u001b[0m\n\u001b[1;32m     28\u001b[0m \u001b[1;32mfor\u001b[0m \u001b[0mwords\u001b[0m \u001b[1;32min\u001b[0m \u001b[0mlista_palavras_relevantes\u001b[0m\u001b[1;33m:\u001b[0m\u001b[1;33m\u001b[0m\u001b[0m\n\u001b[1;32m     29\u001b[0m     \u001b[0mn_palavras\u001b[0m \u001b[1;33m=\u001b[0m \u001b[0mlista_palavras\u001b[0m\u001b[1;33m.\u001b[0m\u001b[0mcount\u001b[0m\u001b[1;33m(\u001b[0m\u001b[0mwords\u001b[0m\u001b[1;33m)\u001b[0m\u001b[1;33m\u001b[0m\u001b[0m\n\u001b[0;32m---> 30\u001b[0;31m     \u001b[0mprob_palavra\u001b[0m \u001b[1;33m=\u001b[0m \u001b[0mn_palavras\u001b[0m\u001b[1;33m/\u001b[0m\u001b[0mlen\u001b[0m\u001b[1;33m(\u001b[0m\u001b[0mlista_palavras\u001b[0m\u001b[1;33m)\u001b[0m\u001b[1;33m\u001b[0m\u001b[0m\n\u001b[0m\u001b[1;32m     31\u001b[0m     \u001b[0mn_palavras_rel\u001b[0m \u001b[1;33m=\u001b[0m \u001b[0mlista_palavras_relevantes\u001b[0m\u001b[1;33m.\u001b[0m\u001b[0mcount\u001b[0m\u001b[1;33m(\u001b[0m\u001b[0mwords\u001b[0m\u001b[1;33m)\u001b[0m\u001b[1;33m\u001b[0m\u001b[0m\n\u001b[1;32m     32\u001b[0m     \u001b[0mprob_palavra_rel\u001b[0m \u001b[1;33m=\u001b[0m \u001b[0mn_palavras_rel\u001b[0m\u001b[1;33m/\u001b[0m\u001b[0mlen\u001b[0m\u001b[1;33m(\u001b[0m\u001b[0mlista_palavras_relevantes\u001b[0m\u001b[1;33m)\u001b[0m\u001b[1;33m\u001b[0m\u001b[0m\n",
      "\u001b[0;31mZeroDivisionError\u001b[0m: division by zero"
     ]
    }
   ],
   "source": [
    "import pandas as pd\n",
    "lista_palavras = []\n",
    "lista_palavras_relevantes = []\n",
    "lista_palavras_irrelevantes = []\n",
    "lista_caracteres = []\n",
    "dados = pd.read_excel('Jack Daniels.xlsx',sep=',')\n",
    "dados.Categoria.value_counts(True) # Porcentagem de Relevante ou Irrelevante\n",
    "dados_total = dados.Treinamento\n",
    "dados_rel = dados[dados.Categoria == 'Relevante'].Treinamento\n",
    "dados_irel = dados[dados.Categoria == 'Irrelevante'].Treinamento\n",
    "\n",
    "for mensagens in dados_rel:\n",
    "    mensagens = mensagens.split()\n",
    "    for palavras in mensagens:\n",
    "        lista_palavras_relevantes.append(palavras)\n",
    "        \n",
    "for mensagens in dados_irel:\n",
    "    mensagens = mensagens.split()\n",
    "    for palavras in mensagens: \n",
    "        lista_palavras_irrelevantes.append(palavras)\n",
    "\n",
    "\n",
    "probabilidade_relevante = 0.656667 #P(Relevante)\n",
    "probabilidade_irrelevante = 0.343333 #P(Irrelevante)\n",
    "\n",
    "for words in lista_palavras_relevantes:\n",
    "    n_palavras = lista_palavras.count(words) #Número de vezes que a palavra se repete na lista de palavras\n",
    "    prob_palavra = n_palavras/len(lista_palavras) # P(palavra)\n",
    "    n_palavras_rel = lista_palavras_relevantes.count(words) #Número de vezes que a palavra aparece na lista de palavras relevantes\n",
    "    prob_palavra_rel = n_palavras_rel/len(lista_palavras) # P(palavra|relevante)\n",
    "    prob_final_relevante = (prob_palavra_rel)*(probabilidade_relvante)/(prob_palavra) #Teorema de Bayes \n",
    "    n_palavras_irrel = lista_palavras_irrelevantes.count(words)\n",
    "    prob_palavra_irrel = n_palavras_irrel/len(lista_palavras)\n",
    "    prob_final_irrel = (prob_palavra_irrel)*(probabilidade_irrelvante)/(prob_palavra) #Teorema de Bayes \n",
    "    if prob_final_rel > prob_final_irrel:\n",
    "        #palavra relevante\n",
    "\n",
    "                                     \n",
    "    \n",
    "\n",
    "\n",
    "    \n"
   ]
  },
  {
   "cell_type": "markdown",
   "metadata": {},
   "source": [
    "___\n",
    "## Verificando a performance\n",
    "\n",
    "Agora você deve testar o seu Classificador com a base de Testes.<br /><br /> \n",
    "\n",
    "Você deve extrair as seguintes medidas:\n",
    "* Porcentagem de positivos falsos (marcados como relevante mas não são relevantes)\n",
    "* Porcentagem de positivos verdadeiros (marcado como relevante e são relevantes)\n",
    "* Porcentagem de negativos verdadeiros (marcado como não relevante e não são relevantes)\n",
    "* Porcentagem de negativos falsos (marcado como não relevante e são relevantes)\n",
    "\n",
    "Opcionalmente:\n",
    "* Criar categorias intermediárias de relevância baseado na diferença de probabilidades. Exemplo: muito relevante, relevante, neutro, irrelevante e muito irrelevante."
   ]
  },
  {
   "cell_type": "code",
   "execution_count": null,
   "metadata": {
    "collapsed": true,
    "scrolled": true
   },
   "outputs": [],
   "source": []
  },
  {
   "cell_type": "markdown",
   "metadata": {
    "collapsed": true
   },
   "source": [
    "___\n",
    "## Concluindo\n",
    "\n",
    "Escreva aqui a sua conclusão.<br /> \n",
    "Faça um comparativo qualitativo sobre as medidas obtidas.<br />\n",
    "Explique como são tratadas as mensagens com dupla negação e sarcasmo.<br />\n",
    "Proponha um plano de expansão. Por que eles devem continuar financiando o seu projeto?<br />\n",
    "\n",
    "Opcionalmente: \n",
    "* Discorrer por que não posso alimentar minha base de Treinamento automaticamente usando o próprio classificador, aplicado a novos tweets.\n",
    "* Propor diferentes cenários de uso para o classificador Naive-Bayes. Cenários sem intersecção com este projeto.\n",
    "* Sugerir e explicar melhorias reais no classificador com indicações concretas de como implementar (não é preciso codificar, mas indicar como fazer e material de pesquisa sobre o assunto).\n"
   ]
  },
  {
   "cell_type": "code",
   "execution_count": null,
   "metadata": {
    "collapsed": true
   },
   "outputs": [],
   "source": []
  },
  {
   "cell_type": "code",
   "execution_count": null,
   "metadata": {
    "collapsed": true
   },
   "outputs": [],
   "source": []
  }
 ],
 "metadata": {
  "kernelspec": {
   "display_name": "Python 3",
   "language": "python",
   "name": "python3"
  },
  "language_info": {
   "codemirror_mode": {
    "name": "ipython",
    "version": 3
   },
   "file_extension": ".py",
   "mimetype": "text/x-python",
   "name": "python",
   "nbconvert_exporter": "python",
   "pygments_lexer": "ipython3",
   "version": "3.6.0"
  }
 },
 "nbformat": 4,
 "nbformat_minor": 1
}
