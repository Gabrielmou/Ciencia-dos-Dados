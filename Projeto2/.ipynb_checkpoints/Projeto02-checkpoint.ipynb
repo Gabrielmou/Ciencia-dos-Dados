{
 "cells": [
  {
   "cell_type": "markdown",
   "metadata": {},
   "source": [
    "# Projeto 2 - Classificador Automático de Sentimento\n",
    "\n",
    "Você foi contratado por uma empresa parar analisar como os clientes estão reagindo a um determinado produto no Twitter. A empresa deseja que você crie um programa que irá analisar as mensagens disponíveis e classificará como \"relevante\" ou \"irrelevante\". Com isso ela deseja que mensagens negativas, que denigrem o nome do produto, ou que mereçam destaque, disparem um foco de atenção da área de marketing.<br /><br />\n",
    "Como aluno de Ciência dos Dados, você lembrou do Teorema de Bayes, mais especificamente do Classificador Naive-Bayes, que é largamente utilizado em filtros anti-spam de e-mails. O classificador permite calcular qual a probabilidade de uma mensagem ser relevante dadas as palavras em seu conteúdo.<br /><br />\n",
    "Para realizar o MVP (*minimum viable product*) do projeto, você precisa implementar uma versão do classificador que \"aprende\" o que é relevante com uma base de treinamento e compara a performance dos resultados com uma base de testes.<br /><br />\n",
    "Após validado, o seu protótipo poderá também capturar e classificar automaticamente as mensagens da plataforma.\n",
    "\n",
    "## Informações do Projeto\n",
    "\n",
    "Prazo: 13/Set até às 23:59.<br />\n",
    "Grupo: 1 ou 2 pessoas.<br /><br />\n",
    "Entregáveis via GitHub: \n",
    "* Arquivo notebook com o código do classificador, seguindo as orientações abaixo.\n",
    "* Arquivo Excel com as bases de treinamento e teste totalmente classificado.\n",
    "\n",
    "**NÃO disponibilizar o arquivo com os *access keys/tokens* do Twitter.**\n",
    "\n",
    "\n",
    "### Check 3: \n",
    "\n",
    "Até o dia 06 de Setembro às 23:59, o notebook e o xlsx devem estar no Github com as seguintes evidências: \n",
    "    * Conta no twitter criada.\n",
    "    * Produto escolhido.\n",
    "    * Arquivo Excel contendo a base de treinamento e teste já classificado.\n",
    "\n",
    "Sugestão de leitura:<br />\n",
    "http://docs.tweepy.org/en/v3.5.0/index.html<br />\n",
    "https://monkeylearn.com/blog/practical-explanation-naive-bayes-classifier/"
   ]
  },
  {
   "cell_type": "markdown",
   "metadata": {},
   "source": [
    "___\n",
    "\n",
    "## Preparando o ambiente\n",
    "\n",
    "Instalando a biblioteca *tweepy* para realizar a conexão com o Twitter:"
   ]
  },
  {
   "cell_type": "code",
   "execution_count": 1,
   "metadata": {
    "collapsed": true
   },
   "outputs": [],
   "source": [
    "%%capture\n",
    "#Instalando o tweepy\n",
    "!pip install tweepy"
   ]
  },
  {
   "cell_type": "markdown",
   "metadata": {},
   "source": [
    "Importando as Bibliotecas que serão utilizadas. Esteja livre para adicionar outras."
   ]
  },
  {
   "cell_type": "code",
   "execution_count": 2,
   "metadata": {
    "collapsed": true
   },
   "outputs": [],
   "source": [
    "import tweepy\n",
    "import math\n",
    "import os.path\n",
    "import pandas as pd\n",
    "import json\n",
    "from random import shuffle"
   ]
  },
  {
   "cell_type": "markdown",
   "metadata": {},
   "source": [
    "___\n",
    "## Autenticando no  Twitter\n",
    "\n",
    "Para realizar a captura dos dados é necessário ter uma conta cadastrada no twitter:\n",
    "\n",
    "* Conta: ***[@MouRin ]***\n",
    "\n",
    "\n",
    "1. Caso ainda não tenha uma: https://twitter.com/signup\n",
    "1. Depois é necessário registrar um app para usar a biblioteca: https://apps.twitter.com/\n",
    "1. Dentro do registro do App, na aba Keys and Access Tokens, anotar os seguintes campos:\n",
    "    1. Consumer Key (API Key)\n",
    "    1. Consumer Secret (API Secret)\n",
    "1. Mais abaixo, gere um Token e anote também:\n",
    "    1. Access Token\n",
    "    1. Access Token Secret\n",
    "    \n",
    "1. Preencha os valores no arquivo \"auth.pass\"\n",
    "\n",
    "**ATENÇÃO**: Nunca divulgue os dados desse arquivo online (GitHub, etc). Ele contém as chaves necessárias para realizar as operações no twitter de forma automática e portanto é equivalente a ser \"hackeado\". De posse desses dados, pessoas mal intencionadas podem fazer todas as operações manuais (tweetar, seguir, bloquear/desbloquear, listar os seguidores, etc). Para efeito do projeto, esse arquivo não precisa ser entregue!!!"
   ]
  },
  {
   "cell_type": "code",
   "execution_count": 3,
   "metadata": {
    "collapsed": false
   },
   "outputs": [],
   "source": [
    "#Dados de autenticação do twitter:\n",
    "\n",
    "#Coloque aqui o identificador da conta no twitter: @fulano\n",
    "\n",
    "#leitura do arquivo no formato JSON\n",
    "with open('auth.pass') as fp:    \n",
    "    data = json.load(fp)\n",
    "\n",
    "#Configurando a biblioteca. Não modificar\n",
    "auth = tweepy.OAuthHandler(data['consumer_key'], data['consumer_secret'])\n",
    "auth.set_access_token(data['access_token'], data['access_token_secret'])"
   ]
  },
  {
   "cell_type": "markdown",
   "metadata": {},
   "source": [
    "___\n",
    "## Coletando Dados\n",
    "\n",
    "Agora vamos coletar os dados. Tenha em mente que dependendo do produto escolhido, não haverá uma quantidade significativa de mensagens, ou ainda poder haver muitos retweets.<br /><br /> \n",
    "Configurando:"
   ]
  },
  {
   "cell_type": "code",
   "execution_count": 4,
   "metadata": {
    "collapsed": true
   },
   "outputs": [],
   "source": [
    "#Produto escolhido:\n",
    "produto = 'Jack Daniels'\n",
    "\n",
    "#Quantidade mínima de mensagens capturadas:\n",
    "n = 500\n",
    "#Quantidade mínima de mensagens para a base de treinamento:\n",
    "t = 300\n",
    "\n",
    "#Filtro de língua, escolha uma na tabela ISO 639-1.\n",
    "lang = 'pt'"
   ]
  },
  {
   "cell_type": "markdown",
   "metadata": {},
   "source": [
    "Capturando os dados do twitter:"
   ]
  },
  {
   "cell_type": "code",
   "execution_count": 5,
   "metadata": {
    "collapsed": false
   },
   "outputs": [],
   "source": [
    "#Cria um objeto para a captura\n",
    "api = tweepy.API(auth)\n",
    "\n",
    "#Inicia a captura, para mais detalhes: ver a documentação do tweepy\n",
    "i = 1\n",
    "msgs = []\n",
    "for msg in tweepy.Cursor(api.search, q=produto, lang=lang).items():    \n",
    "    msgs.append(msg.text.lower())\n",
    "    i += 1\n",
    "    if i > n:\n",
    "        break\n",
    "\n",
    "#Embaralhando as mensagens para reduzir um possível viés\n",
    "shuffle(msgs)"
   ]
  },
  {
   "cell_type": "markdown",
   "metadata": {},
   "source": [
    "Salvando os dados em uma planilha Excel:"
   ]
  },
  {
   "cell_type": "code",
   "execution_count": 6,
   "metadata": {
    "collapsed": false
   },
   "outputs": [],
   "source": [
    "#Verifica se o arquivo não existe para não substituir um conjunto pronto\n",
    "if not os.path.isfile('./{0}.xlsx'.format(produto)):\n",
    "    \n",
    "    #Abre o arquivo para escrita\n",
    "    writer = pd.ExcelWriter('{0}.xlsx'.format(produto))\n",
    "\n",
    "    #divide o conjunto de mensagens em duas planilhas\n",
    "    dft = pd.DataFrame({'Treinamento' : pd.Series(msgs[:t])})\n",
    "    dft.to_excel(excel_writer = writer, sheet_name = 'Treinamento', index = False)\n",
    "\n",
    "    dfc = pd.DataFrame({'Teste' : pd.Series(msgs[t:])})\n",
    "    dfc.to_excel(excel_writer = writer, sheet_name = 'Teste', index = False)\n",
    "\n",
    "    #fecha o arquivo\n",
    "    writer.save()\n",
    "    "
   ]
  },
  {
   "cell_type": "markdown",
   "metadata": {},
   "source": [
    "___\n",
    "## Classificando as Mensagens\n",
    "\n",
    "Agora você deve abrir o arquivo Excel com as mensagens capturadas e classificar na Coluna B se a mensagem é relevante ou não.<br /> \n",
    "Não se esqueça de colocar um nome para a coluna na célula **B1**.<br /><br />\n",
    "Fazer o mesmo na planilha de Controle.\n",
    "\n",
    "___\n",
    "## Montando o Classificador Naive-Bayes\n",
    "\n",
    "Com a base de treinamento montada, comece a desenvolver o classificador. Escreva o seu código abaixo:\n",
    "\n",
    "Opcionalmente: \n",
    "* Limpar as mensagens removendo os caracteres: enter, :, \", ', (, ), etc. Não remover emojis.<br />\n",
    "* Corrigir separação de espaços entre palavras e/ou emojis.\n",
    "* Propor outras limpezas/transformações que não afetem a qualidade da informação.\n",
    "\n"
   ]
  },
  {
   "cell_type": "code",
   "execution_count": 21,
   "metadata": {
    "collapsed": false
   },
   "outputs": [],
   "source": [
    "import pandas as pd\n",
    "import sys\n",
    "import mpmath\n",
    "\n",
    "\n",
    "lista_palavras = [] #Lista de Palavras \n",
    "lista_palavras_relevantes = [] #Lista de Palavras Relevantes\n",
    "lista_palavras_irrelevantes = [] #Lista de Palavras Irrelevantes\n",
    "\n",
    "lista_caracteres = [\"enter\",\":\",'\"' ,\"(,)\",\"...\",\".\"] #Lista de Cacteres não desejados\n",
    "\n",
    "lista_relevante = [] \n",
    "lista_irrelevante = []\n",
    "\n",
    "\n",
    "\n",
    "\n",
    "dados = pd.read_excel('Jack Daniels.xlsx',sep=',')\n",
    "dados.Categoria.value_counts(True) # Porcentagem de Relevante ou Irrelevante\n",
    "dados_total = dados.Treinamento\n",
    "dados_rel = dados[dados.Categoria == 'Relevante'].Treinamento\n",
    "dados_irel = dados[dados.Categoria == 'Irrelevante'].Treinamento\n",
    "\n",
    "for mensagens in dados_total:\n",
    "    mensagens = mensagens.split()\n",
    "    for palavras in mensagens: \n",
    "        if palavras not in lista_caracteres:\n",
    "            lista_palavras.append(palavras)\n",
    "\n",
    "for mensagens in dados_rel:\n",
    "    mensagens = mensagens.split()\n",
    "    for palavras in mensagens:\n",
    "        if palavras not in lista_caracteres:\n",
    "            lista_palavras_relevantes.append(palavras)\n",
    "        \n",
    "for mensagens in dados_irel:\n",
    "    mensagens = mensagens.split()\n",
    "    for palavras in mensagens: \n",
    "        if palavras not in lista_caracteres:\n",
    "            lista_palavras_irrelevantes.append(palavras)\n",
    "\n",
    "probabilidade_relevante = 0.656667 #P(Relevante)\n",
    "probabilidade_irrelevante = 0.343333 #P(Irrelevante)\n",
    "\n",
    "def multiplica_lista(lista): #Função que Multiplica as Probabilidades das Palavras de Uma Frase\n",
    "    prob_total = mpmath.mpf(1)\n",
    "    for elemento in lista:\n",
    "        prob_total = prob_total * elemento\n",
    "    return prob_total\n",
    "    \n",
    "    \n",
    "def algoritimo(mensa):\n",
    "        mensa.split(' ')\n",
    "        l1 = [] # Lista das P(Palavra) das palavras de uma mensagem \n",
    "        l2 = [] # Lista das P(Palavra/Relevante)\n",
    "        l3 = [] # Lista das (Palavra|Irrelevante)\n",
    "        for words in mensa: # Words são as palavras de uma mensagem\n",
    "            n_palavras = lista_palavras.count(words) #Número de vezes que a palavra se repete na lista de palavras\n",
    "            prob_palavra = (n_palavras + 1 )/(len(lista_palavras) + len(lista_palavras)) # P(palavra)\n",
    "            l1.append(prob_palavra)\n",
    "            n_palavras_rel = lista_palavras_relevantes.count(words) #Número de vezes que a palavra aparece na lista de palavras relevantes\n",
    "            prob_palavra_rel = (n_palavras_rel + 1) / (len(lista_palavras_relevantes) + len(lista_palavras)) # P(Palavra|Relevante)\n",
    "            l2.append(prob_palavra_rel)\n",
    "            n_palavras_irrel = lista_palavras_irrelevantes.count(words) #Número de vezes que a palavra aparece na lista de palavras irrelevantes\n",
    "            prob_palavra_irrel = (n_palavras_irrel + 1) / (len(lista_palavras_irrelevantes) + len(lista_palavras))# P(Palavra|Irrelevante)\n",
    "            l3.append(prob_palavra_irrel)\n",
    "        prob_final_rel_total = (multiplica_lista(l2) * probabilidade_relevante)/ (multiplica_lista(l1)) #P(Relevante|Mensagem)\n",
    "        prob_final_irrel_total = (multiplica_lista(l3) * probabilidade_irrelevante) / (multiplica_lista(l1)) #P(Irelevante|Mensagem)\n",
    "        if prob_final_rel_total >= prob_final_irrel_total: #se a probabilidade da mensagem ser relevante for maior que irrelevante\n",
    "            return \"Relevante\" \n",
    "        else:\n",
    "            return \"Irrelevante\"\n",
    "        \n",
    "    \n",
    "                                     \n",
    "    \n",
    "\n",
    "\n",
    "    "
   ]
  },
  {
   "cell_type": "markdown",
   "metadata": {},
   "source": [
    "___\n",
    "## Verificando a performance\n",
    "\n",
    "Agora você deve testar o seu Classificador com a base de Testes.<br /><br /> \n",
    "\n",
    "Você deve extrair as seguintes medidas:\n",
    "* Porcentagem de positivos falsos (marcados como relevante mas não são relevantes)\n",
    "* Porcentagem de positivos verdadeiros (marcado como relevante e são relevantes)\n",
    "* Porcentagem de negativos verdadeiros (marcado como não relevante e não são relevantes)\n",
    "* Porcentagem de negativos falsos (marcado como não relevante e são relevantes)\n",
    "\n",
    "Opcionalmente:\n",
    "* Criar categorias intermediárias de relevância baseado na diferença de probabilidades. Exemplo: muito relevante, relevante, neutro, irrelevante e muito irrelevante."
   ]
  },
  {
   "cell_type": "code",
   "execution_count": 22,
   "metadata": {
    "collapsed": false,
    "scrolled": true
   },
   "outputs": [
    {
     "name": "stdout",
     "output_type": "stream",
     "text": [
      "Total de Erros:110\n",
      "Total de Acertos:90\n",
      "Positivo Falso:93\n",
      "Positivo Verdadeiro:20\n",
      "Negativo Falso:17\n",
      "Negativo Verdadeiro:70\n"
     ]
    }
   ],
   "source": [
    "teste = pd.read_excel('Jack Daniels.xlsx', sheetname = \"Teste\")\n",
    "lista_teste = []\n",
    "for i in range(0, len(teste)):\n",
    "    lista_teste.append([teste[\"Teste\"][i], teste[\"Categoria\"][i]])\n",
    "            \n",
    "    \n",
    "sim_acerto = 0\n",
    "sim_erro = 0\n",
    "nao_acerto = 0\n",
    "nao_erro = 0\n",
    "total_acerto = 0\n",
    "total_erro = 0\n",
    "for tweet in lista_teste:  \n",
    "    if algoritimo(tweet[0]) == tweet[1]:\n",
    "        total_acerto += 1\n",
    "        if tweet[1] == \"Relevante\":\n",
    "            sim_acerto += 1\n",
    "        else:\n",
    "            nao_acerto += 1\n",
    "    else:\n",
    "        total_erro += 1\n",
    "        if tweet[1] == \"Irrelevante\":\n",
    "            sim_erro += 1\n",
    "        else:\n",
    "            nao_erro += 1\n",
    "            \n",
    "print(\"Total de Erros:{0}\".format(total_erro))\n",
    "print(\"Total de Acertos:{0}\".format(total_acerto))\n",
    "print(\"Positivo Falso:{0}\".format(sim_erro))\n",
    "print(\"Positivo Verdadeiro:{0}\".format(sim_acerto))\n",
    "print(\"Negativo Falso:{0}\".format(nao_erro))\n",
    "print(\"Negativo Verdadeiro:{0}\".format(nao_acerto))"
   ]
  },
  {
   "cell_type": "markdown",
   "metadata": {
    "collapsed": true
   },
   "source": [
    "___\n",
    "## Concluindo\n",
    "\n",
    "Escreva aqui a sua conclusão.<br /> \n",
    "Faça um comparativo qualitativo sobre as medidas obtidas.<br />\n",
    "Explique como são tratadas as mensagens com dupla negação e sarcasmo.<br />\n",
    "Proponha um plano de expansão. Por que eles devem continuar financiando o seu projeto?<br />\n",
    "\n",
    "Opcionalmente: \n",
    "* Discorrer por que não posso alimentar minha base de Treinamento automaticamente usando o próprio classificador, aplicado a novos tweets.\n",
    "* Propor diferentes cenários de uso para o classificador Naive-Bayes. Cenários sem intersecção com este projeto.\n",
    "* Sugerir e explicar melhorias reais no classificador com indicações concretas de como implementar (não é preciso codificar, mas indicar como fazer e material de pesquisa sobre o assunto).\n"
   ]
  },
  {
   "cell_type": "code",
   "execution_count": null,
   "metadata": {
    "collapsed": true
   },
   "outputs": [],
   "source": []
  },
  {
   "cell_type": "code",
   "execution_count": null,
   "metadata": {
    "collapsed": true
   },
   "outputs": [],
   "source": []
  }
 ],
 "metadata": {
  "kernelspec": {
   "display_name": "Python 3",
   "language": "python",
   "name": "python3"
  },
  "language_info": {
   "codemirror_mode": {
    "name": "ipython",
    "version": 3
   },
   "file_extension": ".py",
   "mimetype": "text/x-python",
   "name": "python",
   "nbconvert_exporter": "python",
   "pygments_lexer": "ipython3",
   "version": "3.6.0"
  }
 },
 "nbformat": 4,
 "nbformat_minor": 1
}
